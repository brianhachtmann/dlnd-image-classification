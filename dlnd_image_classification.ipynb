{
 "cells": [
  {
   "cell_type": "markdown",
   "metadata": {
    "collapsed": true
   },
   "source": [
    "# Image Classification\n",
    "In this project, you'll classify images from the [CIFAR-10 dataset](https://www.cs.toronto.edu/~kriz/cifar.html).  The dataset consists of airplanes, dogs, cats, and other objects. You'll preprocess the images, then train a convolutional neural network on all the samples. The images need to be normalized and the labels need to be one-hot encoded.  You'll get to apply what you learned and build a convolutional, max pooling, dropout, and fully connected layers.  At the end, you'll get to see your neural network's predictions on the sample images.\n",
    "## Get the Data\n",
    "Run the following cell to download the [CIFAR-10 dataset for python](https://www.cs.toronto.edu/~kriz/cifar-10-python.tar.gz)."
   ]
  },
  {
   "cell_type": "code",
   "execution_count": 1,
   "metadata": {},
   "outputs": [
    {
     "name": "stdout",
     "output_type": "stream",
     "text": [
      "All files found!\n"
     ]
    }
   ],
   "source": [
    "\"\"\"\n",
    "DON'T MODIFY ANYTHING IN THIS CELL THAT IS BELOW THIS LINE\n",
    "\"\"\"\n",
    "from urllib.request import urlretrieve\n",
    "from os.path import isfile, isdir\n",
    "from tqdm import tqdm\n",
    "import problem_unittests as tests\n",
    "import tarfile\n",
    "\n",
    "cifar10_dataset_folder_path = 'cifar-10-batches-py'\n",
    "\n",
    "# Use Floyd's cifar-10 dataset if present\n",
    "floyd_cifar10_location = '/cifar/cifar-10-python.tar.gz'\n",
    "if isfile(floyd_cifar10_location):\n",
    "    tar_gz_path = floyd_cifar10_location\n",
    "else:\n",
    "    tar_gz_path = 'cifar-10-python.tar.gz'\n",
    "\n",
    "class DLProgress(tqdm):\n",
    "    last_block = 0\n",
    "\n",
    "    def hook(self, block_num=1, block_size=1, total_size=None):\n",
    "        self.total = total_size\n",
    "        self.update((block_num - self.last_block) * block_size)\n",
    "        self.last_block = block_num\n",
    "\n",
    "if not isfile(tar_gz_path):\n",
    "    with DLProgress(unit='B', unit_scale=True, miniters=1, desc='CIFAR-10 Dataset') as pbar:\n",
    "        urlretrieve(\n",
    "            'https://www.cs.toronto.edu/~kriz/cifar-10-python.tar.gz',\n",
    "            tar_gz_path,\n",
    "            pbar.hook)\n",
    "\n",
    "if not isdir(cifar10_dataset_folder_path):\n",
    "    with tarfile.open(tar_gz_path) as tar:\n",
    "        tar.extractall()\n",
    "        tar.close()\n",
    "\n",
    "\n",
    "tests.test_folder_path(cifar10_dataset_folder_path)"
   ]
  },
  {
   "cell_type": "markdown",
   "metadata": {},
   "source": [
    "## Explore the Data\n",
    "The dataset is broken into batches to prevent your machine from running out of memory.  The CIFAR-10 dataset consists of 5 batches, named `data_batch_1`, `data_batch_2`, etc.. Each batch contains the labels and images that are one of the following:\n",
    "* airplane\n",
    "* automobile\n",
    "* bird\n",
    "* cat\n",
    "* deer\n",
    "* dog\n",
    "* frog\n",
    "* horse\n",
    "* ship\n",
    "* truck\n",
    "\n",
    "Understanding a dataset is part of making predictions on the data.  Play around with the code cell below by changing the `batch_id` and `sample_id`. The `batch_id` is the id for a batch (1-5). The `sample_id` is the id for a image and label pair in the batch.\n",
    "\n",
    "Ask yourself \"What are all possible labels?\", \"What is the range of values for the image data?\", \"Are the labels in order or random?\".  Answers to questions like these will help you preprocess the data and end up with better predictions."
   ]
  },
  {
   "cell_type": "code",
   "execution_count": 2,
   "metadata": {},
   "outputs": [
    {
     "name": "stdout",
     "output_type": "stream",
     "text": [
      "\n",
      "Stats of batch 4:\n",
      "Samples: 10000\n",
      "Label Counts: {0: 1003, 1: 963, 2: 1041, 3: 976, 4: 1004, 5: 1021, 6: 1004, 7: 981, 8: 1024, 9: 983}\n",
      "First 20 Labels: [0, 6, 0, 2, 7, 2, 1, 2, 4, 1, 5, 6, 6, 3, 1, 3, 5, 5, 8, 1]\n",
      "\n",
      "Example of Image 404:\n",
      "Image - Min Value: 7 Max Value: 255\n",
      "Image - Shape: (32, 32, 3)\n",
      "Label - Label Id: 9 Name: truck\n"
     ]
    },
    {
     "data": {
      "image/png": "[encoded data removed]",
      "text/plain": [
       "<matplotlib.figure.Figure at 0x7f73fc14a9b0>"
      ]
     },
     "metadata": {
      "image/png": {
       "height": 250,
       "width": 253
      }
     },
     "output_type": "display_data"
    }
   ],
   "source": [
    "%matplotlib inline\n",
    "%config InlineBackend.figure_format = 'retina'\n",
    "\n",
    "import helper\n",
    "import numpy as np\n",
    "\n",
    "# Explore the dataset\n",
    "batch_id = 4\n",
    "sample_id = 404\n",
    "helper.display_stats(cifar10_dataset_folder_path, batch_id, sample_id)"
   ]
  },
  {
   "cell_type": "markdown",
   "metadata": {},
   "source": [
    "## Implement Preprocess Functions\n",
    "### Normalize\n",
    "In the cell below, implement the `normalize` function to take in image data, `x`, and return it as a normalized Numpy array. The values should be in the range of 0 to 1, inclusive.  The return object should be the same shape as `x`."
   ]
  },
  {
   "cell_type": "code",
   "execution_count": 3,
   "metadata": {},
   "outputs": [
    {
     "name": "stdout",
     "output_type": "stream",
     "text": [
      "Tests Passed\n"
     ]
    }
   ],
   "source": [
    "def normalize(x):\n",
    "    \"\"\"\n",
    "    Normalize a list of sample image data in the range of 0 to 1\n",
    "    : x: List of image data.  The image shape is (32, 32, 3)\n",
    "    : return: Numpy array of normalize data\n",
    "    \"\"\"\n",
    "    # TODO: Implement Function\n",
    "    return x / 256\n",
    "\n",
    "\n",
    "\"\"\"\n",
    "DON'T MODIFY ANYTHING IN THIS CELL THAT IS BELOW THIS LINE\n",
    "\"\"\"\n",
    "tests.test_normalize(normalize)"
   ]
  },
  {
   "cell_type": "markdown",
   "metadata": {},
   "source": [
    "### One-hot encode\n",
    "Just like the previous code cell, you'll be implementing a function for preprocessing.  This time, you'll implement the `one_hot_encode` function. The input, `x`, are a list of labels.  Implement the function to return the list of labels as One-Hot encoded Numpy array.  The possible values for labels are 0 to 9. The one-hot encoding function should return the same encoding for each value between each call to `one_hot_encode`.  Make sure to save the map of encodings outside the function.\n",
    "\n",
    "Hint: Don't reinvent the wheel."
   ]
  },
  {
   "cell_type": "code",
   "execution_count": 4,
   "metadata": {},
   "outputs": [
    {
     "name": "stdout",
     "output_type": "stream",
     "text": [
      "Tests Passed\n"
     ]
    }
   ],
   "source": [
    "def one_hot_encode(x):\n",
    "    \"\"\"\n",
    "    One hot encode a list of sample labels. Return a one-hot encoded vector for each label.\n",
    "    : x: List of sample Labels\n",
    "    : return: Numpy array of one-hot encoded labels\n",
    "    \"\"\"\n",
    "    # TODO: Implement Function\n",
    "    # print(x)\n",
    "    onehotlabels = np.zeros((len(x),10))\n",
    "    # print(np.shape(onehotlabels))\n",
    "    for i, label in enumerate(x):\n",
    "        onehotlabels[i,label] = 1\n",
    "        # print(onehotlabels[i])\n",
    "    return onehotlabels\n",
    "\n",
    "\n",
    "\"\"\"\n",
    "DON'T MODIFY ANYTHING IN THIS CELL THAT IS BELOW THIS LINE\n",
    "\"\"\"\n",
    "tests.test_one_hot_encode(one_hot_encode)"
   ]
  },
  {
   "cell_type": "markdown",
   "metadata": {},
   "source": [
    "### Randomize Data\n",
    "As you saw from exploring the data above, the order of the samples are randomized.  It doesn't hurt to randomize it again, but you don't need to for this dataset."
   ]
  },
  {
   "cell_type": "markdown",
   "metadata": {},
   "source": [
    "## Preprocess all the data and save it\n",
    "Running the code cell below will preprocess all the CIFAR-10 data and save it to file. The code below also uses 10% of the training data for validation."
   ]
  },
  {
   "cell_type": "code",
   "execution_count": 5,
   "metadata": {
    "collapsed": true
   },
   "outputs": [],
   "source": [
    "\"\"\"\n",
    "DON'T MODIFY ANYTHING IN THIS CELL\n",
    "\"\"\"\n",
    "# Preprocess Training, Validation, and Testing Data\n",
    "helper.preprocess_and_save_data(cifar10_dataset_folder_path, normalize, one_hot_encode)"
   ]
  },
  {
   "cell_type": "markdown",
   "metadata": {},
   "source": [
    "# Check Point\n",
    "This is your first checkpoint.  If you ever decide to come back to this notebook or have to restart the notebook, you can start from here.  The preprocessed data has been saved to disk."
   ]
  },
  {
   "cell_type": "code",
   "execution_count": 6,
   "metadata": {
    "collapsed": true
   },
   "outputs": [],
   "source": [
    "\"\"\"\n",
    "DON'T MODIFY ANYTHING IN THIS CELL\n",
    "\"\"\"\n",
    "import pickle\n",
    "import problem_unittests as tests\n",
    "import helper\n",
    "\n",
    "# Load the Preprocessed Validation data\n",
    "valid_features, valid_labels = pickle.load(open('preprocess_validation.p', mode='rb'))"
   ]
  },
  {
   "cell_type": "markdown",
   "metadata": {},
   "source": [
    "## Build the network\n",
    "For the neural network, you'll build each layer into a function.  Most of the code you've seen has been outside of functions. To test your code more thoroughly, we require that you put each layer in a function.  This allows us to give you better feedback and test for simple mistakes using our unittests before you submit your project.\n",
    "\n",
    ">**Note:** If you're finding it hard to dedicate enough time for this course each week, we've provided a small shortcut to this part of the project. In the next couple of problems, you'll have the option to use classes from the [TensorFlow Layers](https://www.tensorflow.org/api_docs/python/tf/layers) or [TensorFlow Layers (contrib)](https://www.tensorflow.org/api_guides/python/contrib.layers) packages to build each layer, except the layers you build in the \"Convolutional and Max Pooling Layer\" section.  TF Layers is similar to Keras's and TFLearn's abstraction to layers, so it's easy to pickup.\n",
    "\n",
    ">However, if you would like to get the most out of this course, try to solve all the problems _without_ using anything from the TF Layers packages. You **can** still use classes from other packages that happen to have the same name as ones you find in TF Layers! For example, instead of using the TF Layers version of the `conv2d` class, [tf.layers.conv2d](https://www.tensorflow.org/api_docs/python/tf/layers/conv2d), you would want to use the TF Neural Network version of `conv2d`, [tf.nn.conv2d](https://www.tensorflow.org/api_docs/python/tf/nn/conv2d). \n",
    "\n",
    "Let's begin!\n",
    "\n",
    "### Input\n",
    "The neural network needs to read the image data, one-hot encoded labels, and dropout keep probability. Implement the following functions\n",
    "* Implement `neural_net_image_input`\n",
    " * Return a [TF Placeholder](https://www.tensorflow.org/api_docs/python/tf/placeholder)\n",
    " * Set the shape using `image_shape` with batch size set to `None`.\n",
    " * Name the TensorFlow placeholder \"x\" using the TensorFlow `name` parameter in the [TF Placeholder](https://www.tensorflow.org/api_docs/python/tf/placeholder).\n",
    "* Implement `neural_net_label_input`\n",
    " * Return a [TF Placeholder](https://www.tensorflow.org/api_docs/python/tf/placeholder)\n",
    " * Set the shape using `n_classes` with batch size set to `None`.\n",
    " * Name the TensorFlow placeholder \"y\" using the TensorFlow `name` parameter in the [TF Placeholder](https://www.tensorflow.org/api_docs/python/tf/placeholder).\n",
    "* Implement `neural_net_keep_prob_input`\n",
    " * Return a [TF Placeholder](https://www.tensorflow.org/api_docs/python/tf/placeholder) for dropout keep probability.\n",
    " * Name the TensorFlow placeholder \"keep_prob\" using the TensorFlow `name` parameter in the [TF Placeholder](https://www.tensorflow.org/api_docs/python/tf/placeholder).\n",
    "\n",
    "These names will be used at the end of the project to load your saved model.\n",
    "\n",
    "Note: `None` for shapes in TensorFlow allow for a dynamic size."
   ]
  },
  {
   "cell_type": "code",
   "execution_count": 7,
   "metadata": {},
   "outputs": [
    {
     "name": "stdout",
     "output_type": "stream",
     "text": [
      "Image Input Tests Passed.\n",
      "Label Input Tests Passed.\n",
      "Keep Prob Tests Passed.\n"
     ]
    }
   ],
   "source": [
    "import tensorflow as tf\n",
    "\n",
    "def neural_net_image_input(image_shape):\n",
    "    \"\"\"\n",
    "    Return a Tensor for a batch of image input\n",
    "    : image_shape: Shape of the images\n",
    "    : return: Tensor for image input.\n",
    "    \"\"\"\n",
    "    # TODO: Implement Function\n",
    "    return tf.placeholder(tf.float32, shape = [None, image_shape[0], image_shape[1], image_shape[2]], name = \"x\")\n",
    "\n",
    "\n",
    "def neural_net_label_input(n_classes):\n",
    "    \"\"\"\n",
    "    Return a Tensor for a batch of label input\n",
    "    : n_classes: Number of classes\n",
    "    : return: Tensor for label input.\n",
    "    \"\"\"\n",
    "    # TODO: Implement Function\n",
    "    return tf.placeholder(tf.float32, shape = [None, n_classes], name = \"y\")\n",
    "\n",
    "\n",
    "def neural_net_keep_prob_input():\n",
    "    \"\"\"\n",
    "    Return a Tensor for keep probability\n",
    "    : return: Tensor for keep probability.\n",
    "    \"\"\"\n",
    "    # TODO: Implement Function\n",
    "    return tf.placeholder(tf.float32, shape=None, name = \"keep_prob\")\n",
    "\n",
    "\n",
    "\"\"\"\n",
    "DON'T MODIFY ANYTHING IN THIS CELL THAT IS BELOW THIS LINE\n",
    "\"\"\"\n",
    "tf.reset_default_graph()\n",
    "tests.test_nn_image_inputs(neural_net_image_input)\n",
    "tests.test_nn_label_inputs(neural_net_label_input)\n",
    "tests.test_nn_keep_prob_inputs(neural_net_keep_prob_input)"
   ]
  },
  {
   "cell_type": "markdown",
   "metadata": {},
   "source": [
    "### Output Layer\n",
    "Implement the `output` function to apply a fully connected layer to `x_tensor` with the shape (*Batch Size*, *num_outputs*). Shortcut option: you can use classes from the [TensorFlow Layers](https://www.tensorflow.org/api_docs/python/tf/layers) or [TensorFlow Layers (contrib)](https://www.tensorflow.org/api_guides/python/contrib.layers) packages for this layer. For more of a challenge, only use other TensorFlow packages.\n",
    "\n",
    "**Note:** Activation, softmax, or cross entropy should **not** be applied to this."
   ]
  },
  {
   "cell_type": "code",
   "execution_count": 8,
   "metadata": {},
   "outputs": [
    {
     "name": "stdout",
     "output_type": "stream",
     "text": [
      "Tests Passed\n"
     ]
    }
   ],
   "source": [
    "\n",
    "def output(x_tensor, num_outputs):\n",
    "    \"\"\"\n",
    "    Apply a output layer to x_tensor using weight and bias\n",
    "    : x_tensor: A 2-D tensor where the first dimension is batch size.\n",
    "    : num_outputs: The number of output that the new tensor should be.\n",
    "    : return: A 2-D tensor where the second dimension is num_outputs.\n",
    "    \"\"\"\n",
    "    # TODO: Implement Function\n",
    "    return tf.layers.dense(x_tensor, num_outputs)\n",
    "\n",
    "\n",
    "\"\"\"\n",
    "DON'T MODIFY ANYTHING IN THIS CELL THAT IS BELOW THIS LINE\n",
    "\"\"\"\n",
    "tests.test_output(output)"
   ]
  },
  {
   "cell_type": "markdown",
   "metadata": {},
   "source": [
    "### Create Convolutional Model\n",
    "Implement the function `conv_net` to create a convolutional neural network model. The function takes in a batch of images, `x`, and outputs logits.  Use the layers you created above to create this model:\n",
    "\n",
    "* Apply 1, 2, or 3 Convolution and Max Pool layers\n",
    "* Apply a Flatten Layer\n",
    "* Apply 1, 2, or 3 Fully Connected Layers\n",
    "* Apply an Output Layer\n",
    "* Return the output\n",
    "* Apply [TensorFlow's Dropout](https://www.tensorflow.org/api_docs/python/tf/nn/dropout) to one or more layers in the model using `keep_prob`. "
   ]
  },
  {
   "cell_type": "code",
   "execution_count": 85,
   "metadata": {},
   "outputs": [
    {
     "name": "stdout",
     "output_type": "stream",
     "text": [
      "(?, 32, 32, 3)\n",
      "(?, 28, 28, 128)\n",
      "(?, 13, 13, 128)\n",
      "(?, 9, 9, 128)\n",
      "(?, 4, 4, 128)\n",
      "(?, 2048)\n",
      "(?, 4096)\n",
      "(?, 256)\n",
      "(?, 10)\n",
      "(?, 32, 32, 3)\n",
      "(?, 28, 28, 128)\n",
      "(?, 13, 13, 128)\n",
      "(?, 9, 9, 128)\n",
      "(?, 4, 4, 128)\n",
      "(?, 2048)\n",
      "(?, 4096)\n",
      "(?, 256)\n",
      "(?, 10)\n",
      "Neural Network Built!\n"
     ]
    }
   ],
   "source": [
    "def conv_net(x, keep_prob):\n",
    "    \"\"\"\n",
    "    Create a convolutional neural network model\n",
    "    : x: Placeholder tensor that holds image data.\n",
    "    : keep_prob: Placeholder tensor that hold dropout keep probability.\n",
    "    : return: Tensor that represents logits\n",
    "    \"\"\"\n",
    "    # TODO: Apply 1, 2, or 3 Convolution and Max Pool layers\n",
    "    #    Play around with different number of outputs, kernel size and stride\n",
    "    # Function Definition from Above:\n",
    "    \n",
    "    # For observing network size and debug:\n",
    "    print(x.shape)\n",
    "    \n",
    "    h_layer1 = tf.layers.conv2d(x, 128, (5,5), (1,1))\n",
    "    print(h_layer1.shape)\n",
    "\n",
    "    h_layer2 = tf.layers.max_pooling2d(h_layer1, (3,3), (2,2))\n",
    "    print(h_layer2.shape)\n",
    "    \n",
    "    h_layer3 = tf.layers.conv2d(h_layer2, 128, (5,5), (1,1))\n",
    "    print(h_layer3.shape)\n",
    "    \n",
    "    h_layer4 = tf.layers.max_pooling2d(h_layer3, (3,3), (2,2))\n",
    "    print(h_layer4.shape)\n",
    "    \n",
    "    # TODO: Apply a Flatten Layer\n",
    "    # Function Definition from Above:\n",
    "    # note no dropout becuase this is a reformatting of previous layer\n",
    "    conv_out = tf.contrib.layers.flatten(h_layer4)\n",
    "    print(conv_out.shape)\n",
    "\n",
    "    # TODO: Apply 1, 2, or 3 Fully Connected Layers\n",
    "    #    Play around with different number of outputs\n",
    "    # Function Definition from Above:\n",
    "    \n",
    "    # Fully Connected Layer Hyperparameters:\n",
    "    neurons1 = 4096\n",
    "    neurons2 = 256\n",
    "    \n",
    "    hd1 = tf.nn.dropout(tf.sigmoid(tf.layers.dense(conv_out, neurons1)), keep_prob)\n",
    "    print(hd1.shape)\n",
    "    hd2 = tf.nn.dropout(tf.sigmoid(tf.layers.dense(hd1     , neurons2)), keep_prob)\n",
    "    print(hd2.shape)\n",
    "    \n",
    "    # TODO: Apply an Output Layer\n",
    "    #    Set this to the number of classes\n",
    "    # Function Definition from Above:\n",
    "    output = tf.sigmoid(tf.layers.dense(hd2, 10))\n",
    "    print(output.shape)\n",
    "    \n",
    "    # TODO: return output\n",
    "    return output\n",
    "\n",
    "\n",
    "\"\"\"\n",
    "DON'T MODIFY ANYTHING IN THIS CELL THAT IS BELOW THIS LINE\n",
    "\"\"\"\n",
    "\n",
    "##############################\n",
    "## Build the Neural Network ##\n",
    "##############################\n",
    "\n",
    "# Remove previous weights, bias, inputs, etc..\n",
    "tf.reset_default_graph()\n",
    "\n",
    "# Inputs\n",
    "x = neural_net_image_input((32, 32, 3))\n",
    "y = neural_net_label_input(10)\n",
    "keep_prob = neural_net_keep_prob_input()\n",
    "\n",
    "# Model\n",
    "logits = conv_net(x, keep_prob)\n",
    "\n",
    "# Name logits Tensor, so that is can be loaded from disk after training\n",
    "logits = tf.identity(logits, name='logits')\n",
    "\n",
    "# Loss and Optimizer\n",
    "cost = tf.reduce_mean(tf.nn.softmax_cross_entropy_with_logits(logits=logits, labels=y))\n",
    "optimizer = tf.train.AdamOptimizer().minimize(cost)\n",
    "\n",
    "# Accuracy\n",
    "correct_pred = tf.equal(tf.argmax(logits, 1), tf.argmax(y, 1))\n",
    "accuracy = tf.reduce_mean(tf.cast(correct_pred, tf.float32), name='accuracy')\n",
    "\n",
    "tests.test_conv_net(conv_net)"
   ]
  },
  {
   "cell_type": "markdown",
   "metadata": {},
   "source": [
    "## Train the Neural Network\n",
    "### Single Optimization\n",
    "Implement the function `train_neural_network` to do a single optimization.  The optimization should use `optimizer` to optimize in `session` with a `feed_dict` of the following:\n",
    "* `x` for image input\n",
    "* `y` for labels\n",
    "* `keep_prob` for keep probability for dropout\n",
    "\n",
    "This function will be called for each batch, so `tf.global_variables_initializer()` has already been called.\n",
    "\n",
    "Note: Nothing needs to be returned. This function is only optimizing the neural network."
   ]
  },
  {
   "cell_type": "code",
   "execution_count": 86,
   "metadata": {},
   "outputs": [
    {
     "name": "stdout",
     "output_type": "stream",
     "text": [
      "Tests Passed\n"
     ]
    }
   ],
   "source": [
    "def train_neural_network(session, optimizer, keep_probability, feature_batch, label_batch):\n",
    "    \"\"\"\n",
    "    Optimize the session on a batch of images and labels\n",
    "    : session: Current TensorFlow session\n",
    "    : optimizer: TensorFlow optimizer function\n",
    "    : keep_probability: keep probability\n",
    "    : feature_batch: Batch of Numpy image data\n",
    "    : label_batch: Batch of Numpy label data\n",
    "    \"\"\"\n",
    "    # TODO: Implement Function\n",
    "    session.run(optimizer, feed_dict={x: feature_batch, y: label_batch, keep_prob: keep_probability})\n",
    "\n",
    "    \n",
    "    pass\n",
    "\n",
    "\n",
    "\"\"\"\n",
    "DON'T MODIFY ANYTHING IN THIS CELL THAT IS BELOW THIS LINE\n",
    "\"\"\"\n",
    "tests.test_train_nn(train_neural_network)"
   ]
  },
  {
   "cell_type": "markdown",
   "metadata": {},
   "source": [
    "### Show Stats\n",
    "Implement the function `print_stats` to print loss and validation accuracy.  Use the global variables `valid_features` and `valid_labels` to calculate validation accuracy.  Use a keep probability of `1.0` to calculate the loss and validation accuracy."
   ]
  },
  {
   "cell_type": "code",
   "execution_count": 87,
   "metadata": {
    "collapsed": true
   },
   "outputs": [],
   "source": [
    "def print_stats(session, feature_batch, label_batch, cost, accuracy):\n",
    "    \"\"\"\n",
    "    Print information about loss and validation accuracy\n",
    "    : session: Current TensorFlow session\n",
    "    : feature_batch: Batch of Numpy image data\n",
    "    : label_batch: Batch of Numpy label data\n",
    "    : cost: TensorFlow cost function\n",
    "    : accuracy: TensorFlow accuracy function\n",
    "    \"\"\"\n",
    "    # TODO: Implement Function\n",
    "    cost = session.run(cost, feed_dict={x: feature_batch, y: label_batch, keep_prob: 1.})\n",
    "    \n",
    "    accuracy = session.run(accuracy, feed_dict={x: valid_features, y: valid_labels, keep_prob: 1.})\n",
    "\n",
    "    print('cost:{} accuracy: {}'.format(cost, accuracy))\n",
    "    pass"
   ]
  },
  {
   "cell_type": "markdown",
   "metadata": {},
   "source": [
    "### Hyperparameters\n",
    "Tune the following parameters:\n",
    "* Set `epochs` to the number of iterations until the network stops learning or start overfitting\n",
    "* Set `batch_size` to the highest number that your machine has memory for.  Most people set them to common sizes of memory:\n",
    " * 64\n",
    " * 128\n",
    " * 256\n",
    " * ...\n",
    "* Set `keep_probability` to the probability of keeping a node using dropout"
   ]
  },
  {
   "cell_type": "code",
   "execution_count": 90,
   "metadata": {
    "collapsed": true
   },
   "outputs": [],
   "source": [
    "# TODO: Tune Parameters\n",
    "epochs = 40\n",
    "batch_size = 256\n",
    "keep_probability = 0.5\n",
    "\n",
    "## [   conv1   pool1     conv2       pool2   neurons1  neurons2 epochs accuracy]\n",
    "## [ (64,5,1)  (2,2)   (128,3,1)     (2,2)     2048,     512,     40,       56]\n",
    "## [ (64,5,1)  (2,2)   (128,3,1)     (2,2)     4096,     512,     40,       56]\n",
    "## [ (64,7,1)  (2,2)   (128,3,1)     (2,2)     4096,     512,     40,       52]\n",
    "## [ (64,5,1)  (2,2)   (128,5,1)     (2,2)     4096,     512,     40,       57]\n",
    "## [ (64,5,1)  (3,1)   (128,5,1)     (2,2)     4096,     512,     40,       58] \n",
    "## [ (64,5,1)  (3,2)   (128,5,1)     (3,2)     4096,     512,     40,       60] \n",
    "## [ (64,5,1)  (5,2)   (128,5,1)     (5,2)     4096,     512,     40,       55]\n",
    "## [ (64,5,1)  (3,2)   (128,5,1)     (3,2)     4096,    1028,     40,       59] \n",
    "## [ (64,5,1)  (3,2)   (128,5,1)     (3,2)     4096,     256,     40,       59]\n",
    "## [ (32,5,1)  (3,2)   (128,5,1)     (3,2)     4096,     256,     40,       57]\n",
    "## [ (128,5,1)  (3,2)   (128,5,1)     (3,2)     4096,     256,     40,       still training]"
   ]
  },
  {
   "cell_type": "markdown",
   "metadata": {},
   "source": [
    "### Train on a Single CIFAR-10 Batch\n",
    "Instead of training the neural network on all the CIFAR-10 batches of data, let's use a single batch. This should save time while you iterate on the model to get a better accuracy.  Once the final validation accuracy is 50% or greater, run the model on all the data in the next section."
   ]
  },
  {
   "cell_type": "code",
   "execution_count": 91,
   "metadata": {},
   "outputs": [
    {
     "name": "stdout",
     "output_type": "stream",
     "text": [
      "Checking the Training on a Single Batch...\n",
      "Epoch  1, CIFAR-10 Batch 1:  cost:2.1843879222869873 accuracy: 0.22219999134540558\n",
      "Epoch  2, CIFAR-10 Batch 1:  cost:2.157817840576172 accuracy: 0.3139999508857727\n",
      "Epoch  3, CIFAR-10 Batch 1:  cost:2.109445571899414 accuracy: 0.3627999722957611\n",
      "Epoch  4, CIFAR-10 Batch 1:  cost:2.049203872680664 accuracy: 0.36799997091293335\n",
      "Epoch  5, CIFAR-10 Batch 1:  cost:1.9660395383834839 accuracy: 0.4257999658584595\n",
      "Epoch  6, CIFAR-10 Batch 1:  cost:1.9277963638305664 accuracy: 0.43379998207092285\n",
      "Epoch  7, CIFAR-10 Batch 1:  cost:1.8870757818222046 accuracy: 0.44159996509552\n",
      "Epoch  8, CIFAR-10 Batch 1:  cost:1.8423049449920654 accuracy: 0.4383999705314636\n",
      "Epoch  9, CIFAR-10 Batch 1:  cost:1.792384386062622 accuracy: 0.46459996700286865\n",
      "Epoch 10, CIFAR-10 Batch 1:  cost:1.7903120517730713 accuracy: 0.49059998989105225\n",
      "Epoch 11, CIFAR-10 Batch 1:  cost:1.7619192600250244 accuracy: 0.49219995737075806\n",
      "Epoch 12, CIFAR-10 Batch 1:  cost:1.736634373664856 accuracy: 0.506399929523468\n",
      "Epoch 13, CIFAR-10 Batch 1:  cost:1.7263822555541992 accuracy: 0.5119999647140503\n",
      "Epoch 14, CIFAR-10 Batch 1:  cost:1.7339107990264893 accuracy: 0.4713999927043915\n",
      "Epoch 15, CIFAR-10 Batch 1:  cost:1.7116395235061646 accuracy: 0.4861999750137329\n",
      "Epoch 16, CIFAR-10 Batch 1:  cost:1.6694185733795166 accuracy: 0.5345999002456665\n",
      "Epoch 17, CIFAR-10 Batch 1:  cost:1.663872241973877 accuracy: 0.5357999205589294\n",
      "Epoch 18, CIFAR-10 Batch 1:  cost:1.646087646484375 accuracy: 0.531999945640564\n",
      "Epoch 19, CIFAR-10 Batch 1:  cost:1.630539894104004 accuracy: 0.5283999443054199\n",
      "Epoch 20, CIFAR-10 Batch 1:  cost:1.6193386316299438 accuracy: 0.5473999381065369\n",
      "Epoch 21, CIFAR-10 Batch 1:  cost:1.6182456016540527 accuracy: 0.5219998955726624\n",
      "Epoch 22, CIFAR-10 Batch 1:  cost:1.6001440286636353 accuracy: 0.5327999591827393\n",
      "Epoch 23, CIFAR-10 Batch 1:  cost:1.5978543758392334 accuracy: 0.5627999305725098\n",
      "Epoch 24, CIFAR-10 Batch 1:  cost:1.5831472873687744 accuracy: 0.5639999508857727\n",
      "Epoch 25, CIFAR-10 Batch 1:  cost:1.578136682510376 accuracy: 0.5711999535560608\n",
      "Epoch 26, CIFAR-10 Batch 1:  cost:1.550900936126709 accuracy: 0.575999915599823\n",
      "Epoch 27, CIFAR-10 Batch 1:  cost:1.5484533309936523 accuracy: 0.5745999217033386\n",
      "Epoch 28, CIFAR-10 Batch 1:  cost:1.5429255962371826 accuracy: 0.5821999907493591\n",
      "Epoch 29, CIFAR-10 Batch 1:  cost:1.532179832458496 accuracy: 0.5691999197006226\n",
      "Epoch 30, CIFAR-10 Batch 1:  cost:1.5362627506256104 accuracy: 0.5565999150276184\n",
      "Epoch 31, CIFAR-10 Batch 1:  cost:1.5353155136108398 accuracy: 0.564599871635437\n",
      "Epoch 32, CIFAR-10 Batch 1:  cost:1.5349485874176025 accuracy: 0.5637999176979065\n",
      "Epoch 33, CIFAR-10 Batch 1:  cost:1.5304309129714966 accuracy: 0.5819998979568481\n",
      "Epoch 34, CIFAR-10 Batch 1:  cost:1.5236645936965942 accuracy: 0.5879999399185181\n",
      "Epoch 35, CIFAR-10 Batch 1:  cost:1.5059306621551514 accuracy: 0.5747999548912048\n",
      "Epoch 36, CIFAR-10 Batch 1:  cost:1.5021246671676636 accuracy: 0.5813999772071838\n",
      "Epoch 37, CIFAR-10 Batch 1:  cost:1.5033992528915405 accuracy: 0.5935999155044556\n",
      "Epoch 38, CIFAR-10 Batch 1:  cost:1.4957013130187988 accuracy: 0.593799889087677\n",
      "Epoch 39, CIFAR-10 Batch 1:  cost:1.4940260648727417 accuracy: 0.5933998823165894\n",
      "Epoch 40, CIFAR-10 Batch 1:  cost:1.4947290420532227 accuracy: 0.5967999696731567\n"
     ]
    }
   ],
   "source": [
    "\"\"\"\n",
    "DON'T MODIFY ANYTHING IN THIS CELL\n",
    "\"\"\"\n",
    "print('Checking the Training on a Single Batch...')\n",
    "with tf.Session() as sess:\n",
    "    # Initializing the variables\n",
    "    sess.run(tf.global_variables_initializer())\n",
    "    \n",
    "    # Training cycle\n",
    "    for epoch in range(epochs):\n",
    "        batch_i = 1\n",
    "        for batch_features, batch_labels in helper.load_preprocess_training_batch(batch_i, batch_size):\n",
    "            train_neural_network(sess, optimizer, keep_probability, batch_features, batch_labels)\n",
    "        print('Epoch {:>2}, CIFAR-10 Batch {}:  '.format(epoch + 1, batch_i), end='')\n",
    "        print_stats(sess, batch_features, batch_labels, cost, accuracy)"
   ]
  },
  {
   "cell_type": "markdown",
   "metadata": {},
   "source": [
    "### Fully Train the Model\n",
    "Now that you got a good accuracy with a single CIFAR-10 batch, try it with all five batches."
   ]
  },
  {
   "cell_type": "code",
   "execution_count": 92,
   "metadata": {},
   "outputs": [
    {
     "name": "stdout",
     "output_type": "stream",
     "text": [
      "Training...\n",
      "Epoch  1, CIFAR-10 Batch 1:  cost:2.196214199066162 accuracy: 0.2645999789237976\n",
      "Epoch  1, CIFAR-10 Batch 2:  cost:2.0329926013946533 accuracy: 0.3089999854564667\n",
      "Epoch  1, CIFAR-10 Batch 3:  cost:1.9030523300170898 accuracy: 0.342600017786026\n",
      "Epoch  1, CIFAR-10 Batch 4:  cost:1.9737498760223389 accuracy: 0.36319997906684875\n",
      "Epoch  1, CIFAR-10 Batch 5:  cost:1.9734082221984863 accuracy: 0.38999998569488525\n",
      "Epoch  2, CIFAR-10 Batch 1:  cost:1.9822783470153809 accuracy: 0.42079997062683105\n",
      "Epoch  2, CIFAR-10 Batch 2:  cost:1.9546785354614258 accuracy: 0.46219998598098755\n",
      "Epoch  2, CIFAR-10 Batch 3:  cost:1.7673019170761108 accuracy: 0.4731999635696411\n",
      "Epoch  2, CIFAR-10 Batch 4:  cost:1.8325614929199219 accuracy: 0.4569999873638153\n",
      "Epoch  2, CIFAR-10 Batch 5:  cost:1.876814365386963 accuracy: 0.48479995131492615\n",
      "Epoch  3, CIFAR-10 Batch 1:  cost:1.9111719131469727 accuracy: 0.4873999357223511\n",
      "Epoch  3, CIFAR-10 Batch 2:  cost:1.8524467945098877 accuracy: 0.46779999136924744\n",
      "Epoch  3, CIFAR-10 Batch 3:  cost:1.7028398513793945 accuracy: 0.4981999397277832\n",
      "Epoch  3, CIFAR-10 Batch 4:  cost:1.7733656167984009 accuracy: 0.4959999620914459\n",
      "Epoch  3, CIFAR-10 Batch 5:  cost:1.8150818347930908 accuracy: 0.5217999219894409\n",
      "Epoch  4, CIFAR-10 Batch 1:  cost:1.816918969154358 accuracy: 0.5151999592781067\n",
      "Epoch  4, CIFAR-10 Batch 2:  cost:1.801945686340332 accuracy: 0.5149999260902405\n",
      "Epoch  4, CIFAR-10 Batch 3:  cost:1.6646196842193604 accuracy: 0.5203999876976013\n",
      "Epoch  4, CIFAR-10 Batch 4:  cost:1.722322940826416 accuracy: 0.5413999557495117\n",
      "Epoch  4, CIFAR-10 Batch 5:  cost:1.7508494853973389 accuracy: 0.5307999849319458\n",
      "Epoch  5, CIFAR-10 Batch 1:  cost:1.7911009788513184 accuracy: 0.556399941444397\n",
      "Epoch  5, CIFAR-10 Batch 2:  cost:1.761918067932129 accuracy: 0.5395999550819397\n",
      "Epoch  5, CIFAR-10 Batch 3:  cost:1.6398416757583618 accuracy: 0.5521999597549438\n",
      "Epoch  5, CIFAR-10 Batch 4:  cost:1.6856474876403809 accuracy: 0.5653999447822571\n",
      "Epoch  5, CIFAR-10 Batch 5:  cost:1.7354159355163574 accuracy: 0.5409998893737793\n",
      "Epoch  6, CIFAR-10 Batch 1:  cost:1.7650197744369507 accuracy: 0.5677999258041382\n",
      "Epoch  6, CIFAR-10 Batch 2:  cost:1.7024973630905151 accuracy: 0.5859999656677246\n",
      "Epoch  6, CIFAR-10 Batch 3:  cost:1.6261537075042725 accuracy: 0.585599958896637\n",
      "Epoch  6, CIFAR-10 Batch 4:  cost:1.6404941082000732 accuracy: 0.5929998755455017\n",
      "Epoch  6, CIFAR-10 Batch 5:  cost:1.6828103065490723 accuracy: 0.5891999006271362\n",
      "Epoch  7, CIFAR-10 Batch 1:  cost:1.695884346961975 accuracy: 0.5871999263763428\n",
      "Epoch  7, CIFAR-10 Batch 2:  cost:1.655699372291565 accuracy: 0.6125999093055725\n",
      "Epoch  7, CIFAR-10 Batch 3:  cost:1.6188974380493164 accuracy: 0.6035999655723572\n",
      "Epoch  7, CIFAR-10 Batch 4:  cost:1.6269431114196777 accuracy: 0.5883998870849609\n",
      "Epoch  7, CIFAR-10 Batch 5:  cost:1.6600148677825928 accuracy: 0.5933999419212341\n",
      "Epoch  8, CIFAR-10 Batch 1:  cost:1.6659157276153564 accuracy: 0.6205999255180359\n",
      "Epoch  8, CIFAR-10 Batch 2:  cost:1.61680269241333 accuracy: 0.6175999045372009\n",
      "Epoch  8, CIFAR-10 Batch 3:  cost:1.596846103668213 accuracy: 0.6213998794555664\n",
      "Epoch  8, CIFAR-10 Batch 4:  cost:1.6032090187072754 accuracy: 0.6215999126434326\n",
      "Epoch  8, CIFAR-10 Batch 5:  cost:1.6088480949401855 accuracy: 0.6241999268531799\n",
      "Epoch  9, CIFAR-10 Batch 1:  cost:1.658742070198059 accuracy: 0.6375998854637146\n",
      "Epoch  9, CIFAR-10 Batch 2:  cost:1.6133151054382324 accuracy: 0.6053999662399292\n",
      "Epoch  9, CIFAR-10 Batch 3:  cost:1.5827363729476929 accuracy: 0.6463999152183533\n",
      "Epoch  9, CIFAR-10 Batch 4:  cost:1.6003341674804688 accuracy: 0.6143999099731445\n",
      "Epoch  9, CIFAR-10 Batch 5:  cost:1.5846006870269775 accuracy: 0.6351999044418335\n",
      "Epoch 10, CIFAR-10 Batch 1:  cost:1.6168910264968872 accuracy: 0.6333999037742615\n",
      "Epoch 10, CIFAR-10 Batch 2:  cost:1.5794639587402344 accuracy: 0.6533998847007751\n",
      "Epoch 10, CIFAR-10 Batch 3:  cost:1.5668145418167114 accuracy: 0.6577998399734497\n",
      "Epoch 10, CIFAR-10 Batch 4:  cost:1.5772411823272705 accuracy: 0.6577998995780945\n",
      "Epoch 10, CIFAR-10 Batch 5:  cost:1.573235273361206 accuracy: 0.6429998874664307\n",
      "Epoch 11, CIFAR-10 Batch 1:  cost:1.6210877895355225 accuracy: 0.6275998950004578\n",
      "Epoch 11, CIFAR-10 Batch 2:  cost:1.5770364999771118 accuracy: 0.649199903011322\n",
      "Epoch 11, CIFAR-10 Batch 3:  cost:1.5588750839233398 accuracy: 0.6581998467445374\n",
      "Epoch 11, CIFAR-10 Batch 4:  cost:1.5736572742462158 accuracy: 0.6599999070167542\n",
      "Epoch 11, CIFAR-10 Batch 5:  cost:1.5575087070465088 accuracy: 0.6645998358726501\n",
      "Epoch 12, CIFAR-10 Batch 1:  cost:1.5889919996261597 accuracy: 0.662199854850769\n",
      "Epoch 12, CIFAR-10 Batch 2:  cost:1.5712212324142456 accuracy: 0.6475998759269714\n",
      "Epoch 12, CIFAR-10 Batch 3:  cost:1.5587915182113647 accuracy: 0.6731998920440674\n",
      "Epoch 12, CIFAR-10 Batch 4:  cost:1.5574969053268433 accuracy: 0.6691998839378357\n",
      "Epoch 12, CIFAR-10 Batch 5:  cost:1.5472943782806396 accuracy: 0.6639998555183411\n",
      "Epoch 13, CIFAR-10 Batch 1:  cost:1.5676379203796387 accuracy: 0.681999921798706\n",
      "Epoch 13, CIFAR-10 Batch 2:  cost:1.5649501085281372 accuracy: 0.6695998907089233\n",
      "Epoch 13, CIFAR-10 Batch 3:  cost:1.5424116849899292 accuracy: 0.6837998628616333\n",
      "Epoch 13, CIFAR-10 Batch 4:  cost:1.5596702098846436 accuracy: 0.6783998608589172\n",
      "Epoch 13, CIFAR-10 Batch 5:  cost:1.544127345085144 accuracy: 0.6771998405456543\n",
      "Epoch 14, CIFAR-10 Batch 1:  cost:1.5553245544433594 accuracy: 0.6749998927116394\n",
      "Epoch 14, CIFAR-10 Batch 2:  cost:1.5513383150100708 accuracy: 0.6739999651908875\n",
      "Epoch 14, CIFAR-10 Batch 3:  cost:1.538703441619873 accuracy: 0.6757999062538147\n",
      "Epoch 14, CIFAR-10 Batch 4:  cost:1.5467746257781982 accuracy: 0.6893998384475708\n",
      "Epoch 14, CIFAR-10 Batch 5:  cost:1.5275123119354248 accuracy: 0.7017999291419983\n",
      "Epoch 15, CIFAR-10 Batch 1:  cost:1.5543642044067383 accuracy: 0.6793999075889587\n",
      "Epoch 15, CIFAR-10 Batch 2:  cost:1.5496370792388916 accuracy: 0.6869998574256897\n",
      "Epoch 15, CIFAR-10 Batch 3:  cost:1.5331581830978394 accuracy: 0.6937998533248901\n",
      "Epoch 15, CIFAR-10 Batch 4:  cost:1.5439302921295166 accuracy: 0.6945998072624207\n",
      "Epoch 15, CIFAR-10 Batch 5:  cost:1.5198166370391846 accuracy: 0.6873998641967773\n",
      "Epoch 16, CIFAR-10 Batch 1:  cost:1.5600565671920776 accuracy: 0.679999828338623\n",
      "Epoch 16, CIFAR-10 Batch 2:  cost:1.5460420846939087 accuracy: 0.6889998316764832\n",
      "Epoch 16, CIFAR-10 Batch 3:  cost:1.5324116945266724 accuracy: 0.6815998554229736\n",
      "Epoch 16, CIFAR-10 Batch 4:  cost:1.5327495336532593 accuracy: 0.6963998079299927\n",
      "Epoch 16, CIFAR-10 Batch 5:  cost:1.5218050479888916 accuracy: 0.6883997917175293\n",
      "Epoch 17, CIFAR-10 Batch 1:  cost:1.5425267219543457 accuracy: 0.6889998316764832\n",
      "Epoch 17, CIFAR-10 Batch 2:  cost:1.5401819944381714 accuracy: 0.7053998708724976\n",
      "Epoch 17, CIFAR-10 Batch 3:  cost:1.5270910263061523 accuracy: 0.691399872303009\n",
      "Epoch 17, CIFAR-10 Batch 4:  cost:1.5352509021759033 accuracy: 0.6935998797416687\n",
      "Epoch 17, CIFAR-10 Batch 5:  cost:1.5214043855667114 accuracy: 0.7017998695373535\n",
      "Epoch 18, CIFAR-10 Batch 1:  cost:1.5382592678070068 accuracy: 0.6867998242378235\n",
      "Epoch 18, CIFAR-10 Batch 2:  cost:1.5345375537872314 accuracy: 0.697999894618988\n",
      "Epoch 18, CIFAR-10 Batch 3:  cost:1.5284149646759033 accuracy: 0.6949998140335083\n",
      "Epoch 18, CIFAR-10 Batch 4:  cost:1.5275055170059204 accuracy: 0.6923998594284058\n",
      "Epoch 18, CIFAR-10 Batch 5:  cost:1.5212597846984863 accuracy: 0.7081998586654663\n",
      "Epoch 19, CIFAR-10 Batch 1:  cost:1.544288158416748 accuracy: 0.6837999224662781\n",
      "Epoch 19, CIFAR-10 Batch 2:  cost:1.5363531112670898 accuracy: 0.7099999189376831\n",
      "Epoch 19, CIFAR-10 Batch 3:  cost:1.5181288719177246 accuracy: 0.6987998485565186\n",
      "Epoch 19, CIFAR-10 Batch 4:  cost:1.516305923461914 accuracy: 0.7029998898506165\n",
      "Epoch 19, CIFAR-10 Batch 5:  cost:1.5175836086273193 accuracy: 0.7035998106002808\n",
      "Epoch 20, CIFAR-10 Batch 1:  cost:1.5311789512634277 accuracy: 0.7037999033927917\n",
      "Epoch 20, CIFAR-10 Batch 2:  cost:1.530739188194275 accuracy: 0.7117999196052551\n",
      "Epoch 20, CIFAR-10 Batch 3:  cost:1.5130528211593628 accuracy: 0.7055999040603638\n",
      "Epoch 20, CIFAR-10 Batch 4:  cost:1.5152502059936523 accuracy: 0.7223998308181763\n",
      "Epoch 20, CIFAR-10 Batch 5:  cost:1.5020205974578857 accuracy: 0.7145998477935791\n"
     ]
    },
    {
     "name": "stdout",
     "output_type": "stream",
     "text": [
      "Epoch 21, CIFAR-10 Batch 1:  cost:1.5215437412261963 accuracy: 0.7221999168395996\n",
      "Epoch 21, CIFAR-10 Batch 2:  cost:1.5303692817687988 accuracy: 0.7117998600006104\n",
      "Epoch 21, CIFAR-10 Batch 3:  cost:1.5112180709838867 accuracy: 0.7165998220443726\n",
      "Epoch 21, CIFAR-10 Batch 4:  cost:1.513864517211914 accuracy: 0.7191998362541199\n",
      "Epoch 21, CIFAR-10 Batch 5:  cost:1.5029189586639404 accuracy: 0.7089998722076416\n",
      "Epoch 22, CIFAR-10 Batch 1:  cost:1.5207929611206055 accuracy: 0.7033998966217041\n",
      "Epoch 22, CIFAR-10 Batch 2:  cost:1.5111100673675537 accuracy: 0.7053998112678528\n",
      "Epoch 22, CIFAR-10 Batch 3:  cost:1.5091638565063477 accuracy: 0.7247999310493469\n",
      "Epoch 22, CIFAR-10 Batch 4:  cost:1.5180461406707764 accuracy: 0.7239998579025269\n",
      "Epoch 22, CIFAR-10 Batch 5:  cost:1.4993667602539062 accuracy: 0.7097998261451721\n",
      "Epoch 23, CIFAR-10 Batch 1:  cost:1.5132145881652832 accuracy: 0.7227998971939087\n",
      "Epoch 23, CIFAR-10 Batch 2:  cost:1.5210481882095337 accuracy: 0.7045998573303223\n",
      "Epoch 23, CIFAR-10 Batch 3:  cost:1.5157369375228882 accuracy: 0.7101998329162598\n",
      "Epoch 23, CIFAR-10 Batch 4:  cost:1.504408836364746 accuracy: 0.7095998525619507\n",
      "Epoch 23, CIFAR-10 Batch 5:  cost:1.4925048351287842 accuracy: 0.7183998823165894\n",
      "Epoch 24, CIFAR-10 Batch 1:  cost:1.517633080482483 accuracy: 0.7137998342514038\n",
      "Epoch 24, CIFAR-10 Batch 2:  cost:1.508580207824707 accuracy: 0.7109999060630798\n",
      "Epoch 24, CIFAR-10 Batch 3:  cost:1.5081021785736084 accuracy: 0.7131998538970947\n",
      "Epoch 24, CIFAR-10 Batch 4:  cost:1.5109267234802246 accuracy: 0.707399845123291\n",
      "Epoch 24, CIFAR-10 Batch 5:  cost:1.4885873794555664 accuracy: 0.7137998342514038\n",
      "Epoch 25, CIFAR-10 Batch 1:  cost:1.5137019157409668 accuracy: 0.7131998538970947\n",
      "Epoch 25, CIFAR-10 Batch 2:  cost:1.5065507888793945 accuracy: 0.7053998112678528\n",
      "Epoch 25, CIFAR-10 Batch 3:  cost:1.505225658416748 accuracy: 0.7295998334884644\n",
      "Epoch 25, CIFAR-10 Batch 4:  cost:1.5038585662841797 accuracy: 0.7211999297142029\n",
      "Epoch 25, CIFAR-10 Batch 5:  cost:1.4905096292495728 accuracy: 0.707399845123291\n",
      "Epoch 26, CIFAR-10 Batch 1:  cost:1.5142335891723633 accuracy: 0.6941999197006226\n",
      "Epoch 26, CIFAR-10 Batch 2:  cost:1.5068131685256958 accuracy: 0.7035998702049255\n",
      "Epoch 26, CIFAR-10 Batch 3:  cost:1.504897952079773 accuracy: 0.7271997928619385\n",
      "Epoch 26, CIFAR-10 Batch 4:  cost:1.5007294416427612 accuracy: 0.721799910068512\n",
      "Epoch 26, CIFAR-10 Batch 5:  cost:1.489241600036621 accuracy: 0.7141999006271362\n",
      "Epoch 27, CIFAR-10 Batch 1:  cost:1.519486904144287 accuracy: 0.7177998423576355\n",
      "Epoch 27, CIFAR-10 Batch 2:  cost:1.501138687133789 accuracy: 0.7285999059677124\n",
      "Epoch 27, CIFAR-10 Batch 3:  cost:1.4995862245559692 accuracy: 0.7197998762130737\n",
      "Epoch 27, CIFAR-10 Batch 4:  cost:1.507040023803711 accuracy: 0.7123998999595642\n",
      "Epoch 27, CIFAR-10 Batch 5:  cost:1.4890779256820679 accuracy: 0.7237998843193054\n",
      "Epoch 28, CIFAR-10 Batch 1:  cost:1.5103462934494019 accuracy: 0.7173998355865479\n",
      "Epoch 28, CIFAR-10 Batch 2:  cost:1.5028854608535767 accuracy: 0.715199887752533\n",
      "Epoch 28, CIFAR-10 Batch 3:  cost:1.4981764554977417 accuracy: 0.7201998829841614\n",
      "Epoch 28, CIFAR-10 Batch 4:  cost:1.5052822828292847 accuracy: 0.7311998009681702\n",
      "Epoch 28, CIFAR-10 Batch 5:  cost:1.4911051988601685 accuracy: 0.7101999521255493\n",
      "Epoch 29, CIFAR-10 Batch 1:  cost:1.5107498168945312 accuracy: 0.7283998131752014\n",
      "Epoch 29, CIFAR-10 Batch 2:  cost:1.4998078346252441 accuracy: 0.7165998220443726\n",
      "Epoch 29, CIFAR-10 Batch 3:  cost:1.4934487342834473 accuracy: 0.7181999087333679\n",
      "Epoch 29, CIFAR-10 Batch 4:  cost:1.500978946685791 accuracy: 0.7209997773170471\n",
      "Epoch 29, CIFAR-10 Batch 5:  cost:1.4819433689117432 accuracy: 0.7307998538017273\n",
      "Epoch 30, CIFAR-10 Batch 1:  cost:1.5068268775939941 accuracy: 0.7193998098373413\n",
      "Epoch 30, CIFAR-10 Batch 2:  cost:1.5006535053253174 accuracy: 0.7143998742103577\n",
      "Epoch 30, CIFAR-10 Batch 3:  cost:1.4936975240707397 accuracy: 0.7271998524665833\n",
      "Epoch 30, CIFAR-10 Batch 4:  cost:1.4929001331329346 accuracy: 0.7191998958587646\n",
      "Epoch 30, CIFAR-10 Batch 5:  cost:1.4827296733856201 accuracy: 0.7161998152732849\n",
      "Epoch 31, CIFAR-10 Batch 1:  cost:1.5114037990570068 accuracy: 0.7249998450279236\n",
      "Epoch 31, CIFAR-10 Batch 2:  cost:1.502272367477417 accuracy: 0.7123998999595642\n",
      "Epoch 31, CIFAR-10 Batch 3:  cost:1.4868727922439575 accuracy: 0.7235997915267944\n",
      "Epoch 31, CIFAR-10 Batch 4:  cost:1.5021077394485474 accuracy: 0.7257998585700989\n",
      "Epoch 31, CIFAR-10 Batch 5:  cost:1.4822609424591064 accuracy: 0.7231998443603516\n",
      "Epoch 32, CIFAR-10 Batch 1:  cost:1.5113143920898438 accuracy: 0.7261999249458313\n",
      "Epoch 32, CIFAR-10 Batch 2:  cost:1.5009994506835938 accuracy: 0.7227998971939087\n",
      "Epoch 32, CIFAR-10 Batch 3:  cost:1.4873936176300049 accuracy: 0.723599910736084\n",
      "Epoch 32, CIFAR-10 Batch 4:  cost:1.4972474575042725 accuracy: 0.7179998755455017\n",
      "Epoch 32, CIFAR-10 Batch 5:  cost:1.483100414276123 accuracy: 0.7245998382568359\n",
      "Epoch 33, CIFAR-10 Batch 1:  cost:1.5078779458999634 accuracy: 0.7301998734474182\n",
      "Epoch 33, CIFAR-10 Batch 2:  cost:1.5031075477600098 accuracy: 0.7275998592376709\n",
      "Epoch 33, CIFAR-10 Batch 3:  cost:1.4884777069091797 accuracy: 0.7317997813224792\n",
      "Epoch 33, CIFAR-10 Batch 4:  cost:1.498797059059143 accuracy: 0.7333999276161194\n",
      "Epoch 33, CIFAR-10 Batch 5:  cost:1.4858793020248413 accuracy: 0.7319998741149902\n",
      "Epoch 34, CIFAR-10 Batch 1:  cost:1.5089778900146484 accuracy: 0.7315998077392578\n",
      "Epoch 34, CIFAR-10 Batch 2:  cost:1.5129578113555908 accuracy: 0.7243998646736145\n",
      "Epoch 34, CIFAR-10 Batch 3:  cost:1.4953739643096924 accuracy: 0.7159998416900635\n",
      "Epoch 34, CIFAR-10 Batch 4:  cost:1.4973385334014893 accuracy: 0.7285998463630676\n",
      "Epoch 34, CIFAR-10 Batch 5:  cost:1.4793906211853027 accuracy: 0.7281998991966248\n",
      "Epoch 35, CIFAR-10 Batch 1:  cost:1.5063073635101318 accuracy: 0.7301998138427734\n",
      "Epoch 35, CIFAR-10 Batch 2:  cost:1.500370979309082 accuracy: 0.7103997468948364\n",
      "Epoch 35, CIFAR-10 Batch 3:  cost:1.4848212003707886 accuracy: 0.7307998538017273\n",
      "Epoch 35, CIFAR-10 Batch 4:  cost:1.4957513809204102 accuracy: 0.7335997819900513\n",
      "Epoch 35, CIFAR-10 Batch 5:  cost:1.4820396900177002 accuracy: 0.7391998767852783\n",
      "Epoch 36, CIFAR-10 Batch 1:  cost:1.5036135911941528 accuracy: 0.7377998232841492\n",
      "Epoch 36, CIFAR-10 Batch 2:  cost:1.4977576732635498 accuracy: 0.7261998653411865\n",
      "Epoch 36, CIFAR-10 Batch 3:  cost:1.481921911239624 accuracy: 0.7471998929977417\n",
      "Epoch 36, CIFAR-10 Batch 4:  cost:1.4889154434204102 accuracy: 0.737799882888794\n",
      "Epoch 36, CIFAR-10 Batch 5:  cost:1.4841864109039307 accuracy: 0.7381998300552368\n",
      "Epoch 37, CIFAR-10 Batch 1:  cost:1.5031174421310425 accuracy: 0.7289997935295105\n",
      "Epoch 37, CIFAR-10 Batch 2:  cost:1.4942470788955688 accuracy: 0.7155998945236206\n",
      "Epoch 37, CIFAR-10 Batch 3:  cost:1.484323501586914 accuracy: 0.7241998314857483\n",
      "Epoch 37, CIFAR-10 Batch 4:  cost:1.4915355443954468 accuracy: 0.7275998592376709\n",
      "Epoch 37, CIFAR-10 Batch 5:  cost:1.4799678325653076 accuracy: 0.7275998592376709\n",
      "Epoch 38, CIFAR-10 Batch 1:  cost:1.5092910528182983 accuracy: 0.7333998680114746\n",
      "Epoch 38, CIFAR-10 Batch 2:  cost:1.493878722190857 accuracy: 0.7359998226165771\n",
      "Epoch 38, CIFAR-10 Batch 3:  cost:1.4814891815185547 accuracy: 0.7297998070716858\n",
      "Epoch 38, CIFAR-10 Batch 4:  cost:1.4905290603637695 accuracy: 0.7399998903274536\n",
      "Epoch 38, CIFAR-10 Batch 5:  cost:1.4798438549041748 accuracy: 0.7345998883247375\n",
      "Epoch 39, CIFAR-10 Batch 1:  cost:1.5131635665893555 accuracy: 0.7321998476982117\n",
      "Epoch 39, CIFAR-10 Batch 2:  cost:1.496039628982544 accuracy: 0.7285999059677124\n",
      "Epoch 39, CIFAR-10 Batch 3:  cost:1.4829570055007935 accuracy: 0.7341998815536499\n",
      "Epoch 39, CIFAR-10 Batch 4:  cost:1.4859977960586548 accuracy: 0.7219998836517334\n",
      "Epoch 39, CIFAR-10 Batch 5:  cost:1.4788739681243896 accuracy: 0.7359998226165771\n",
      "Epoch 40, CIFAR-10 Batch 1:  cost:1.505556583404541 accuracy: 0.7429998517036438\n",
      "Epoch 40, CIFAR-10 Batch 2:  cost:1.4916497468948364 accuracy: 0.7457998394966125\n",
      "Epoch 40, CIFAR-10 Batch 3:  cost:1.481260061264038 accuracy: 0.7391998767852783\n",
      "Epoch 40, CIFAR-10 Batch 4:  cost:1.4887136220932007 accuracy: 0.7333997488021851\n",
      "Epoch 40, CIFAR-10 Batch 5:  cost:1.4784976243972778 accuracy: 0.7403998374938965\n"
     ]
    }
   ],
   "source": [
    "\"\"\"\n",
    "DON'T MODIFY ANYTHING IN THIS CELL\n",
    "\"\"\"\n",
    "save_model_path = './image_classification'\n",
    "\n",
    "print('Training...')\n",
    "with tf.Session() as sess:\n",
    "    # Initializing the variables\n",
    "    sess.run(tf.global_variables_initializer())\n",
    "    \n",
    "    # Training cycle\n",
    "    for epoch in range(epochs):\n",
    "        # Loop over all batches\n",
    "        n_batches = 5\n",
    "        for batch_i in range(1, n_batches + 1):\n",
    "            for batch_features, batch_labels in helper.load_preprocess_training_batch(batch_i, batch_size):\n",
    "                train_neural_network(sess, optimizer, keep_probability, batch_features, batch_labels)\n",
    "            print('Epoch {:>2}, CIFAR-10 Batch {}:  '.format(epoch + 1, batch_i), end='')\n",
    "            print_stats(sess, batch_features, batch_labels, cost, accuracy)\n",
    "            \n",
    "    # Save Model\n",
    "    saver = tf.train.Saver()\n",
    "    save_path = saver.save(sess, save_model_path)"
   ]
  },
  {
   "cell_type": "markdown",
   "metadata": {},
   "source": [
    "# Checkpoint\n",
    "The model has been saved to disk.\n",
    "## Test Model\n",
    "Test your model against the test dataset.  This will be your final accuracy. You should have an accuracy greater than 50%. If you don't, keep tweaking the model architecture and parameters."
   ]
  },
  {
   "cell_type": "code",
   "execution_count": 93,
   "metadata": {},
   "outputs": [
    {
     "name": "stdout",
     "output_type": "stream",
     "text": [
      "INFO:tensorflow:Restoring parameters from ./image_classification\n",
      "Testing Accuracy: 0.73359375\n",
      "\n"
     ]
    },
    {
     "data": {
      "image/png": "[encoded data removed]",
      "text/plain": [
       "<matplotlib.figure.Figure at 0x7f739c4fdc88>"
      ]
     },
     "metadata": {
      "image/png": {
       "height": 319,
       "width": 355
      }
     },
     "output_type": "display_data"
    }
   ],
   "source": [
    "\"\"\"\n",
    "DON'T MODIFY ANYTHING IN THIS CELL\n",
    "\"\"\"\n",
    "%matplotlib inline\n",
    "%config InlineBackend.figure_format = 'retina'\n",
    "\n",
    "import tensorflow as tf\n",
    "import pickle\n",
    "import helper\n",
    "import random\n",
    "\n",
    "# Set batch size if not already set\n",
    "try:\n",
    "    if batch_size:\n",
    "        pass\n",
    "except NameError:\n",
    "    batch_size = 64\n",
    "\n",
    "save_model_path = './image_classification'\n",
    "n_samples = 4\n",
    "top_n_predictions = 3\n",
    "\n",
    "def test_model():\n",
    "    \"\"\"\n",
    "    Test the saved model against the test dataset\n",
    "    \"\"\"\n",
    "\n",
    "    test_features, test_labels = pickle.load(open('preprocess_test.p', mode='rb'))\n",
    "    loaded_graph = tf.Graph()\n",
    "\n",
    "    with tf.Session(graph=loaded_graph) as sess:\n",
    "        # Load model\n",
    "        loader = tf.train.import_meta_graph(save_model_path + '.meta')\n",
    "        loader.restore(sess, save_model_path)\n",
    "\n",
    "        # Get Tensors from loaded model\n",
    "        loaded_x = loaded_graph.get_tensor_by_name('x:0')\n",
    "        loaded_y = loaded_graph.get_tensor_by_name('y:0')\n",
    "        loaded_keep_prob = loaded_graph.get_tensor_by_name('keep_prob:0')\n",
    "        loaded_logits = loaded_graph.get_tensor_by_name('logits:0')\n",
    "        loaded_acc = loaded_graph.get_tensor_by_name('accuracy:0')\n",
    "        \n",
    "        # Get accuracy in batches for memory limitations\n",
    "        test_batch_acc_total = 0\n",
    "        test_batch_count = 0\n",
    "        \n",
    "        for test_feature_batch, test_label_batch in helper.batch_features_labels(test_features, test_labels, batch_size):\n",
    "            test_batch_acc_total += sess.run(\n",
    "                loaded_acc,\n",
    "                feed_dict={loaded_x: test_feature_batch, loaded_y: test_label_batch, loaded_keep_prob: 1.0})\n",
    "            test_batch_count += 1\n",
    "\n",
    "        print('Testing Accuracy: {}\\n'.format(test_batch_acc_total/test_batch_count))\n",
    "\n",
    "        # Print Random Samples\n",
    "        random_test_features, random_test_labels = tuple(zip(*random.sample(list(zip(test_features, test_labels)), n_samples)))\n",
    "        random_test_predictions = sess.run(\n",
    "            tf.nn.top_k(tf.nn.softmax(loaded_logits), top_n_predictions),\n",
    "            feed_dict={loaded_x: random_test_features, loaded_y: random_test_labels, loaded_keep_prob: 1.0})\n",
    "        helper.display_image_predictions(random_test_features, random_test_labels, random_test_predictions)\n",
    "\n",
    "\n",
    "test_model()"
   ]
  },
  {
   "cell_type": "markdown",
   "metadata": {},
   "source": [
    "## Why 50-80% Accuracy?\n",
    "You might be wondering why you can't get an accuracy any higher. First things first, 50% isn't bad for a simple CNN.  Pure guessing would get you 10% accuracy. However, you might notice people are getting scores [well above 80%](http://rodrigob.github.io/are_we_there_yet/build/classification_datasets_results.html#43494641522d3130).  That's because we haven't taught you all there is to know about neural networks. We still need to cover a few more techniques.\n",
    "## Submitting This Project\n",
    "When submitting this project, make sure to run all the cells before saving the notebook.  Save the notebook file as \"dlnd_image_classification.ipynb\" and save it as a HTML file under \"File\" -> \"Download as\".  Include the \"helper.py\" and \"problem_unittests.py\" files in your submission."
   ]
  }
 ],
 "metadata": {
  "kernelspec": {
   "display_name": "Python 3",
   "language": "python",
   "name": "python3"
  },
  "language_info": {
   "codemirror_mode": {
    "name": "ipython",
    "version": 3
   },
   "file_extension": ".py",
   "mimetype": "text/x-python",
   "name": "python",
   "nbconvert_exporter": "python",
   "pygments_lexer": "ipython3",
   "version": "3.5.3"
  }
 },
 "nbformat": 4,
 "nbformat_minor": 1
}
