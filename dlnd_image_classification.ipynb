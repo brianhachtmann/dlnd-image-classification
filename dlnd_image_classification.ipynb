{
 "cells": [
  {
   "cell_type": "markdown",
   "metadata": {
    "collapsed": true
   },
   "source": [
    "# Image Classification\n",
    "In this project, you'll classify images from the [CIFAR-10 dataset](https://www.cs.toronto.edu/~kriz/cifar.html).  The dataset consists of airplanes, dogs, cats, and other objects. You'll preprocess the images, then train a convolutional neural network on all the samples. The images need to be normalized and the labels need to be one-hot encoded.  You'll get to apply what you learned and build a convolutional, max pooling, dropout, and fully connected layers.  At the end, you'll get to see your neural network's predictions on the sample images.\n",
    "## Get the Data\n",
    "Run the following cell to download the [CIFAR-10 dataset for python](https://www.cs.toronto.edu/~kriz/cifar-10-python.tar.gz)."
   ]
  },
  {
   "cell_type": "code",
   "execution_count": 1,
   "metadata": {},
   "outputs": [
    {
     "name": "stdout",
     "output_type": "stream",
     "text": [
      "All files found!\n"
     ]
    }
   ],
   "source": [
    "\"\"\"\n",
    "DON'T MODIFY ANYTHING IN THIS CELL THAT IS BELOW THIS LINE\n",
    "\"\"\"\n",
    "from urllib.request import urlretrieve\n",
    "from os.path import isfile, isdir\n",
    "from tqdm import tqdm\n",
    "import problem_unittests as tests\n",
    "import tarfile\n",
    "\n",
    "cifar10_dataset_folder_path = 'cifar-10-batches-py'\n",
    "\n",
    "# Use Floyd's cifar-10 dataset if present\n",
    "floyd_cifar10_location = '/cifar/cifar-10-python.tar.gz'\n",
    "if isfile(floyd_cifar10_location):\n",
    "    tar_gz_path = floyd_cifar10_location\n",
    "else:\n",
    "    tar_gz_path = 'cifar-10-python.tar.gz'\n",
    "\n",
    "class DLProgress(tqdm):\n",
    "    last_block = 0\n",
    "\n",
    "    def hook(self, block_num=1, block_size=1, total_size=None):\n",
    "        self.total = total_size\n",
    "        self.update((block_num - self.last_block) * block_size)\n",
    "        self.last_block = block_num\n",
    "\n",
    "if not isfile(tar_gz_path):\n",
    "    with DLProgress(unit='B', unit_scale=True, miniters=1, desc='CIFAR-10 Dataset') as pbar:\n",
    "        urlretrieve(\n",
    "            'https://www.cs.toronto.edu/~kriz/cifar-10-python.tar.gz',\n",
    "            tar_gz_path,\n",
    "            pbar.hook)\n",
    "\n",
    "if not isdir(cifar10_dataset_folder_path):\n",
    "    with tarfile.open(tar_gz_path) as tar:\n",
    "        tar.extractall()\n",
    "        tar.close()\n",
    "\n",
    "\n",
    "tests.test_folder_path(cifar10_dataset_folder_path)"
   ]
  },
  {
   "cell_type": "markdown",
   "metadata": {},
   "source": [
    "## Explore the Data\n",
    "The dataset is broken into batches to prevent your machine from running out of memory.  The CIFAR-10 dataset consists of 5 batches, named `data_batch_1`, `data_batch_2`, etc.. Each batch contains the labels and images that are one of the following:\n",
    "* airplane\n",
    "* automobile\n",
    "* bird\n",
    "* cat\n",
    "* deer\n",
    "* dog\n",
    "* frog\n",
    "* horse\n",
    "* ship\n",
    "* truck\n",
    "\n",
    "Understanding a dataset is part of making predictions on the data.  Play around with the code cell below by changing the `batch_id` and `sample_id`. The `batch_id` is the id for a batch (1-5). The `sample_id` is the id for a image and label pair in the batch.\n",
    "\n",
    "Ask yourself \"What are all possible labels?\", \"What is the range of values for the image data?\", \"Are the labels in order or random?\".  Answers to questions like these will help you preprocess the data and end up with better predictions."
   ]
  },
  {
   "cell_type": "code",
   "execution_count": 2,
   "metadata": {},
   "outputs": [
    {
     "name": "stdout",
     "output_type": "stream",
     "text": [
      "\n",
      "Stats of batch 1:\n",
      "Samples: 10000\n",
      "Label Counts: {0: 1005, 1: 974, 2: 1032, 3: 1016, 4: 999, 5: 937, 6: 1030, 7: 1001, 8: 1025, 9: 981}\n",
      "First 20 Labels: [6, 9, 9, 4, 1, 1, 2, 7, 8, 3, 4, 7, 7, 2, 9, 9, 9, 3, 2, 6]\n",
      "\n",
      "Example of Image 5:\n",
      "Image - Min Value: 0 Max Value: 252\n",
      "Image - Shape: (32, 32, 3)\n",
      "Label - Label Id: 1 Name: automobile\n"
     ]
    },
    {
     "data": {
      "image/png": "[encoded data removed]",
      "text/plain": [
       "<matplotlib.figure.Figure at 0x7fdea12ce898>"
      ]
     },
     "metadata": {
      "image/png": {
       "height": 250,
       "width": 253
      }
     },
     "output_type": "display_data"
    }
   ],
   "source": [
    "%matplotlib inline\n",
    "%config InlineBackend.figure_format = 'retina'\n",
    "\n",
    "import helper\n",
    "import numpy as np\n",
    "\n",
    "# Explore the dataset\n",
    "batch_id = 1\n",
    "sample_id = 5\n",
    "helper.display_stats(cifar10_dataset_folder_path, batch_id, sample_id)"
   ]
  },
  {
   "cell_type": "markdown",
   "metadata": {},
   "source": [
    "## Implement Preprocess Functions\n",
    "### Normalize\n",
    "In the cell below, implement the `normalize` function to take in image data, `x`, and return it as a normalized Numpy array. The values should be in the range of 0 to 1, inclusive.  The return object should be the same shape as `x`."
   ]
  },
  {
   "cell_type": "code",
   "execution_count": 3,
   "metadata": {},
   "outputs": [
    {
     "name": "stdout",
     "output_type": "stream",
     "text": [
      "Tests Passed\n"
     ]
    }
   ],
   "source": [
    "def normalize(x):\n",
    "    \"\"\"\n",
    "    Normalize a list of sample image data in the range of 0 to 1\n",
    "    : x: List of image data.  The image shape is (32, 32, 3)\n",
    "    : return: Numpy array of normalize data\n",
    "    \"\"\"\n",
    "    # TODO: Implement Function\n",
    "    return x / 256\n",
    "\n",
    "\n",
    "\"\"\"\n",
    "DON'T MODIFY ANYTHING IN THIS CELL THAT IS BELOW THIS LINE\n",
    "\"\"\"\n",
    "tests.test_normalize(normalize)"
   ]
  },
  {
   "cell_type": "markdown",
   "metadata": {},
   "source": [
    "### One-hot encode\n",
    "Just like the previous code cell, you'll be implementing a function for preprocessing.  This time, you'll implement the `one_hot_encode` function. The input, `x`, are a list of labels.  Implement the function to return the list of labels as One-Hot encoded Numpy array.  The possible values for labels are 0 to 9. The one-hot encoding function should return the same encoding for each value between each call to `one_hot_encode`.  Make sure to save the map of encodings outside the function.\n",
    "\n",
    "Hint: Don't reinvent the wheel."
   ]
  },
  {
   "cell_type": "code",
   "execution_count": 4,
   "metadata": {},
   "outputs": [
    {
     "name": "stdout",
     "output_type": "stream",
     "text": [
      "Tests Passed\n"
     ]
    }
   ],
   "source": [
    "def one_hot_encode(x):\n",
    "    \"\"\"\n",
    "    One hot encode a list of sample labels. Return a one-hot encoded vector for each label.\n",
    "    : x: List of sample Labels\n",
    "    : return: Numpy array of one-hot encoded labels\n",
    "    \"\"\"\n",
    "    # TODO: Implement Function\n",
    "    return np.eye(10)[x]\n",
    "\n",
    "\n",
    "\"\"\"\n",
    "DON'T MODIFY ANYTHING IN THIS CELL THAT IS BELOW THIS LINE\n",
    "\"\"\"\n",
    "tests.test_one_hot_encode(one_hot_encode)"
   ]
  },
  {
   "cell_type": "markdown",
   "metadata": {},
   "source": [
    "### Randomize Data\n",
    "As you saw from exploring the data above, the order of the samples are randomized.  It doesn't hurt to randomize it again, but you don't need to for this dataset."
   ]
  },
  {
   "cell_type": "markdown",
   "metadata": {},
   "source": [
    "## Preprocess all the data and save it\n",
    "Running the code cell below will preprocess all the CIFAR-10 data and save it to file. The code below also uses 10% of the training data for validation."
   ]
  },
  {
   "cell_type": "code",
   "execution_count": 5,
   "metadata": {
    "collapsed": true
   },
   "outputs": [],
   "source": [
    "\"\"\"\n",
    "DON'T MODIFY ANYTHING IN THIS CELL\n",
    "\"\"\"\n",
    "# Preprocess Training, Validation, and Testing Data\n",
    "helper.preprocess_and_save_data(cifar10_dataset_folder_path, normalize, one_hot_encode)"
   ]
  },
  {
   "cell_type": "markdown",
   "metadata": {},
   "source": [
    "# Check Point\n",
    "This is your first checkpoint.  If you ever decide to come back to this notebook or have to restart the notebook, you can start from here.  The preprocessed data has been saved to disk."
   ]
  },
  {
   "cell_type": "code",
   "execution_count": 6,
   "metadata": {
    "collapsed": true
   },
   "outputs": [],
   "source": [
    "\"\"\"\n",
    "DON'T MODIFY ANYTHING IN THIS CELL\n",
    "\"\"\"\n",
    "import pickle\n",
    "import problem_unittests as tests\n",
    "import helper\n",
    "\n",
    "# Load the Preprocessed Validation data\n",
    "valid_features, valid_labels = pickle.load(open('preprocess_validation.p', mode='rb'))"
   ]
  },
  {
   "cell_type": "markdown",
   "metadata": {},
   "source": [
    "## Build the network\n",
    "For the neural network, you'll build each layer into a function.  Most of the code you've seen has been outside of functions. To test your code more thoroughly, we require that you put each layer in a function.  This allows us to give you better feedback and test for simple mistakes using our unittests before you submit your project.\n",
    "\n",
    ">**Note:** If you're finding it hard to dedicate enough time for this course each week, we've provided a small shortcut to this part of the project. In the next couple of problems, you'll have the option to use classes from the [TensorFlow Layers](https://www.tensorflow.org/api_docs/python/tf/layers) or [TensorFlow Layers (contrib)](https://www.tensorflow.org/api_guides/python/contrib.layers) packages to build each layer, except the layers you build in the \"Convolutional and Max Pooling Layer\" section.  TF Layers is similar to Keras's and TFLearn's abstraction to layers, so it's easy to pickup.\n",
    "\n",
    ">However, if you would like to get the most out of this course, try to solve all the problems _without_ using anything from the TF Layers packages. You **can** still use classes from other packages that happen to have the same name as ones you find in TF Layers! For example, instead of using the TF Layers version of the `conv2d` class, [tf.layers.conv2d](https://www.tensorflow.org/api_docs/python/tf/layers/conv2d), you would want to use the TF Neural Network version of `conv2d`, [tf.nn.conv2d](https://www.tensorflow.org/api_docs/python/tf/nn/conv2d). \n",
    "\n",
    "Let's begin!\n",
    "\n",
    "### Input\n",
    "The neural network needs to read the image data, one-hot encoded labels, and dropout keep probability. Implement the following functions\n",
    "* Implement `neural_net_image_input`\n",
    " * Return a [TF Placeholder](https://www.tensorflow.org/api_docs/python/tf/placeholder)\n",
    " * Set the shape using `image_shape` with batch size set to `None`.\n",
    " * Name the TensorFlow placeholder \"x\" using the TensorFlow `name` parameter in the [TF Placeholder](https://www.tensorflow.org/api_docs/python/tf/placeholder).\n",
    "* Implement `neural_net_label_input`\n",
    " * Return a [TF Placeholder](https://www.tensorflow.org/api_docs/python/tf/placeholder)\n",
    " * Set the shape using `n_classes` with batch size set to `None`.\n",
    " * Name the TensorFlow placeholder \"y\" using the TensorFlow `name` parameter in the [TF Placeholder](https://www.tensorflow.org/api_docs/python/tf/placeholder).\n",
    "* Implement `neural_net_keep_prob_input`\n",
    " * Return a [TF Placeholder](https://www.tensorflow.org/api_docs/python/tf/placeholder) for dropout keep probability.\n",
    " * Name the TensorFlow placeholder \"keep_prob\" using the TensorFlow `name` parameter in the [TF Placeholder](https://www.tensorflow.org/api_docs/python/tf/placeholder).\n",
    "\n",
    "These names will be used at the end of the project to load your saved model.\n",
    "\n",
    "Note: `None` for shapes in TensorFlow allow for a dynamic size."
   ]
  },
  {
   "cell_type": "code",
   "execution_count": 7,
   "metadata": {},
   "outputs": [
    {
     "name": "stdout",
     "output_type": "stream",
     "text": [
      "Image Input Tests Passed.\n",
      "Label Input Tests Passed.\n",
      "Keep Prob Tests Passed.\n"
     ]
    }
   ],
   "source": [
    "import tensorflow as tf\n",
    "\n",
    "def neural_net_image_input(image_shape):\n",
    "    \"\"\"\n",
    "    Return a Tensor for a batch of image input\n",
    "    : image_shape: Shape of the images\n",
    "    : return: Tensor for image input.\n",
    "    \"\"\"\n",
    "    # TODO: Implement Function\n",
    "    return tf.placeholder(tf.float32, shape = [None, image_shape[0], image_shape[1], image_shape[2]], name = \"x\")\n",
    "\n",
    "\n",
    "def neural_net_label_input(n_classes):\n",
    "    \"\"\"\n",
    "    Return a Tensor for a batch of label input\n",
    "    : n_classes: Number of classes\n",
    "    : return: Tensor for label input.\n",
    "    \"\"\"\n",
    "    # TODO: Implement Function\n",
    "    return tf.placeholder(tf.float32, shape = [None, n_classes], name = \"y\")\n",
    "\n",
    "\n",
    "def neural_net_keep_prob_input():\n",
    "    \"\"\"\n",
    "    Return a Tensor for keep probability\n",
    "    : return: Tensor for keep probability.\n",
    "    \"\"\"\n",
    "    # TODO: Implement Function\n",
    "    return tf.placeholder(tf.float32, shape=None, name = \"keep_prob\")\n",
    "\n",
    "\n",
    "\"\"\"\n",
    "DON'T MODIFY ANYTHING IN THIS CELL THAT IS BELOW THIS LINE\n",
    "\"\"\"\n",
    "tf.reset_default_graph()\n",
    "tests.test_nn_image_inputs(neural_net_image_input)\n",
    "tests.test_nn_label_inputs(neural_net_label_input)\n",
    "tests.test_nn_keep_prob_inputs(neural_net_keep_prob_input)"
   ]
  },
  {
   "cell_type": "markdown",
   "metadata": {},
   "source": [
    "### Convolution and Max Pooling Layer\n",
    "Convolution layers have a lot of success with images. For this code cell, you should implement the function `conv2d_maxpool` to apply convolution then max pooling:\n",
    "* Create the weight and bias using `conv_ksize`, `conv_num_outputs` and the shape of `x_tensor`.\n",
    "* Apply a convolution to `x_tensor` using weight and `conv_strides`.\n",
    " * We recommend you use same padding, but you're welcome to use any padding.\n",
    "* Add bias\n",
    "* Add a nonlinear activation to the convolution.\n",
    "* Apply Max Pooling using `pool_ksize` and `pool_strides`.\n",
    " * We recommend you use same padding, but you're welcome to use any padding.\n",
    "\n",
    "**Note:** You **can't** use [TensorFlow Layers](https://www.tensorflow.org/api_docs/python/tf/layers) or [TensorFlow Layers (contrib)](https://www.tensorflow.org/api_guides/python/contrib.layers) for **this** layer, but you can still use TensorFlow's [Neural Network](https://www.tensorflow.org/api_docs/python/tf/nn) package. You may still use the shortcut option for all the **other** layers."
   ]
  },
  {
   "cell_type": "code",
   "execution_count": 88,
   "metadata": {},
   "outputs": [
    {
     "name": "stdout",
     "output_type": "stream",
     "text": [
      "Tests Passed\n"
     ]
    }
   ],
   "source": [
    "def conv2d_maxpool(x_tensor, conv_num_outputs, conv_ksize, conv_strides, pool_ksize, pool_strides):\n",
    "    \"\"\"\n",
    "    Apply convolution then max pooling to x_tensor\n",
    "    :param x_tensor: TensorFlow Tensor\n",
    "    :param conv_num_outputs: Number of outputs for the convolutional layer\n",
    "    :param conv_ksize: kernal size 2-D Tuple for the convolutional layer\n",
    "    :param conv_strides: Stride 2-D Tuple for convolution\n",
    "    :param pool_ksize: kernal size 2-D Tuple for pool\n",
    "    :param pool_strides: Stride 2-D Tuple for pool\n",
    "    : return: A tensor that represents convolution and max pooling of x_tensor\n",
    "    \"\"\"\n",
    "    \"\"\"\n",
    "    QUESTIONS:\n",
    "       are the tf.Variables only run the first time this is called? if not network should not train.\n",
    "    \"\"\"\n",
    "\n",
    "    # TODO: Implement Function\n",
    "\n",
    "    num_color_channels = x_tensor.shape[3].value\n",
    "\n",
    "    # initialize weight variable tensor using conv_ksize, conv_num_ooutputs, and shape of x_tensor\n",
    "    # weights in a CNN map from kernal to filters.  shape is [shape(kernel),numfilters]\n",
    "    # note this weights tensor is the filter tensor input for tf.nn.conv2D\n",
    "    weights = tf.Variable(tf.truncated_normal(\n",
    "                          shape = [conv_ksize[0], conv_ksize[1], num_color_channels, conv_num_outputs],\n",
    "                          mean = 0,\n",
    "                          stddev = 0.1,\n",
    "                          dtype = tf.float32\n",
    "                         ))\n",
    "    \n",
    "    # Convolute x_tensor\n",
    "    # strides is 1D tensor of length 4 [batch, height, width, channels]\n",
    "    layer = tf.nn.conv2d(\n",
    "                         x_tensor,\n",
    "                         weights,\n",
    "                         [1,conv_strides[0],conv_strides[1],1],\n",
    "                         padding = \"SAME\"\n",
    "                        )\n",
    "    \n",
    "    # initialize bias variable tensor\n",
    "    bias = tf.Variable(tf.zeros(\n",
    "                       [layer.shape[1],layer.shape[2],layer.shape[3]],\n",
    "                       dtype=tf.float32\n",
    "                      ))\n",
    "\n",
    "    # add bias\n",
    "    layer = tf.add(layer,bias)\n",
    "    \n",
    "    # apply linear rectifier\n",
    "    layer = tf.nn.relu(layer)\n",
    "    \n",
    "    # apply maxpool\n",
    "    # input 4-D Tensor with shape [batch, height, width, channels] and type tf.float32\n",
    "    # ksize: A list of ints that has length >= 4. The size of the window for each dimension of the input tensor\n",
    "    # strides: A list of ints that has length >= 4. The stride of the sliding window for each dimension of the input tensor\n",
    "    layer = tf.nn.max_pool(\n",
    "                           layer,\n",
    "                           [1, pool_ksize[0],   pool_ksize[1],   1],\n",
    "                           [1, pool_strides[0], pool_strides[1], 1],\n",
    "                           padding=\"SAME\"\n",
    "                          )\n",
    "\n",
    "    return layer \n",
    "\n",
    "\n",
    "\"\"\"\n",
    "DON'T MODIFY ANYTHING IN THIS CELL THAT IS BELOW THIS LINE\n",
    "\"\"\"\n",
    "tests.test_con_pool(conv2d_maxpool)"
   ]
  },
  {
   "cell_type": "markdown",
   "metadata": {},
   "source": [
    "### Flatten Layer\n",
    "Implement the `flatten` function to change the dimension of `x_tensor` from a 4-D tensor to a 2-D tensor.  The output should be the shape (*Batch Size*, *Flattened Image Size*). Shortcut option: you can use classes from the [TensorFlow Layers](https://www.tensorflow.org/api_docs/python/tf/layers) or [TensorFlow Layers (contrib)](https://www.tensorflow.org/api_guides/python/contrib.layers) packages for this layer. For more of a challenge, only use other TensorFlow packages."
   ]
  },
  {
   "cell_type": "code",
   "execution_count": 89,
   "metadata": {},
   "outputs": [
    {
     "name": "stdout",
     "output_type": "stream",
     "text": [
      "Tests Passed\n"
     ]
    }
   ],
   "source": [
    "def flatten(x_tensor):\n",
    "    \"\"\"\n",
    "    Flatten x_tensor to (Batch Size, Flattened Image Size)\n",
    "    : x_tensor: A tensor of size (Batch Size, ...), where ... are the image dimensions.\n",
    "    : return: A tensor of size (Batch Size, Flattened Image Size).\n",
    "    \"\"\"\n",
    "    # TODO: Implement Function\n",
    "    num_pooled_filters = x_tensor.shape[1].value * x_tensor.shape[2].value * x_tensor.shape[3].value\n",
    "    \n",
    "    layer = tf.reshape(\n",
    "                       x_tensor,\n",
    "                       [-1, num_pooled_filters]\n",
    "                      )\n",
    "\n",
    "    return layer\n",
    "\n",
    "\n",
    "\"\"\"\n",
    "DON'T MODIFY ANYTHING IN THIS CELL THAT IS BELOW THIS LINE\n",
    "\"\"\"\n",
    "tests.test_flatten(flatten)"
   ]
  },
  {
   "cell_type": "markdown",
   "metadata": {},
   "source": [
    "### Fully-Connected Layer\n",
    "Implement the `fully_conn` function to apply a fully connected layer to `x_tensor` with the shape (*Batch Size*, *num_outputs*). Shortcut option: you can use classes from the [TensorFlow Layers](https://www.tensorflow.org/api_docs/python/tf/layers) or [TensorFlow Layers (contrib)](https://www.tensorflow.org/api_guides/python/contrib.layers) packages for this layer. For more of a challenge, only use other TensorFlow packages."
   ]
  },
  {
   "cell_type": "code",
   "execution_count": 90,
   "metadata": {},
   "outputs": [
    {
     "name": "stdout",
     "output_type": "stream",
     "text": [
      "Tests Passed\n"
     ]
    }
   ],
   "source": [
    "def fully_conn(x_tensor, num_outputs):\n",
    "    \"\"\"\n",
    "    Apply a fully connected layer to x_tensor using weight and bias\n",
    "    : x_tensor: A 2-D tensor where the first dimension is batch size.\n",
    "    : num_outputs: The number of output that the new tensor should be.\n",
    "    : return: A 2-D tensor where the second dimension is num_outputs.\n",
    "    \"\"\"\n",
    "    # TODO: Implement Function\n",
    "    # print(x_tensor.shape)\n",
    "    # init weights\n",
    "    # weights shape is ()\n",
    "    # print(num_outputs)\n",
    "    weights = tf.Variable(tf.truncated_normal(\n",
    "                          shape = [x_tensor.shape[1].value, num_outputs],\n",
    "                          mean = 0,\n",
    "                          stddev = 0.1,\n",
    "                          dtype = tf.float32\n",
    "                         ))\n",
    "\n",
    "    # apply weights\n",
    "    layer = tf.matmul(x_tensor, weights)\n",
    "\n",
    "    # init bias\n",
    "    bias = tf.Variable(tf.zeros(\n",
    "                          [layer.shape[1].value],\n",
    "                          dtype=tf.float32\n",
    "                      ))\n",
    "\n",
    "    # add bias\n",
    "    layer = tf.add(layer,bias)\n",
    "\n",
    "    # rectify linarly\n",
    "    layer = tf.nn.relu(layer)\n",
    "\n",
    "\n",
    "    return layer\n",
    "\n",
    "\n",
    "\"\"\"\n",
    "DON'T MODIFY ANYTHING IN THIS CELL THAT IS BELOW THIS LINE\n",
    "\"\"\"\n",
    "tests.test_fully_conn(fully_conn)"
   ]
  },
  {
   "cell_type": "markdown",
   "metadata": {},
   "source": [
    "### Output Layer\n",
    "Implement the `output` function to apply a fully connected layer to `x_tensor` with the shape (*Batch Size*, *num_outputs*). Shortcut option: you can use classes from the [TensorFlow Layers](https://www.tensorflow.org/api_docs/python/tf/layers) or [TensorFlow Layers (contrib)](https://www.tensorflow.org/api_guides/python/contrib.layers) packages for this layer. For more of a challenge, only use other TensorFlow packages.\n",
    "\n",
    "**Note:** Activation, softmax, or cross entropy should **not** be applied to this."
   ]
  },
  {
   "cell_type": "code",
   "execution_count": 91,
   "metadata": {},
   "outputs": [
    {
     "name": "stdout",
     "output_type": "stream",
     "text": [
      "Tests Passed\n"
     ]
    }
   ],
   "source": [
    "def output(x_tensor, num_outputs):\n",
    "    \"\"\"\n",
    "    Apply a output layer to x_tensor using weight and bias\n",
    "    : x_tensor: A 2-D tensor where the first dimension is batch size.\n",
    "    : num_outputs: The number of output that the new tensor should be.\n",
    "    : return: A 2-D tensor where the second dimension is num_outputs.\n",
    "    \"\"\"\n",
    "    # TODO: Implement Function\n",
    "    return tf.layers.dense(x_tensor, num_outputs)\n",
    "\n",
    "\n",
    "\"\"\"\n",
    "DON'T MODIFY ANYTHING IN THIS CELL THAT IS BELOW THIS LINE\n",
    "\"\"\"\n",
    "tests.test_output(output)"
   ]
  },
  {
   "cell_type": "markdown",
   "metadata": {},
   "source": [
    "### Create Convolutional Model\n",
    "Implement the function `conv_net` to create a convolutional neural network model. The function takes in a batch of images, `x`, and outputs logits.  Use the layers you created above to create this model:\n",
    "\n",
    "* Apply 1, 2, or 3 Convolution and Max Pool layers\n",
    "* Apply a Flatten Layer\n",
    "* Apply 1, 2, or 3 Fully Connected Layers\n",
    "* Apply an Output Layer\n",
    "* Return the output\n",
    "* Apply [TensorFlow's Dropout](https://www.tensorflow.org/api_docs/python/tf/nn/dropout) to one or more layers in the model using `keep_prob`. "
   ]
  },
  {
   "cell_type": "code",
   "execution_count": 92,
   "metadata": {},
   "outputs": [
    {
     "name": "stdout",
     "output_type": "stream",
     "text": [
      "Neural Network Built!\n"
     ]
    }
   ],
   "source": [
    "def conv_net(x, keep_prob):\n",
    "    \"\"\"\n",
    "    Create a convolutional neural network model\n",
    "    : x: Placeholder tensor that holds image data.\n",
    "    : keep_prob: Placeholder tensor that hold dropout keep probability.\n",
    "    : return: Tensor that represents logits\n",
    "    \"\"\"\n",
    "    # TODO: Apply 1, 2, or 3 Convolution and Max Pool layers\n",
    "    # Play around with different number of outputs, kernel size and stride\n",
    "    # Function Definition from Above:\n",
    "    x = conv2d_maxpool(x, 128, (5,5), (1,1), (3,3), (2,2))\n",
    "    x = conv2d_maxpool(x, 128, (5,5), (1,1), (3,3), (2,2))\n",
    "    \n",
    "    # TODO: Apply a Flatten Layer\n",
    "    # Function Definition from Above:\n",
    "    x = flatten(x)\n",
    "    \n",
    "    # TODO: Apply 1, 2, or 3 Fully Connected Layers\n",
    "    # Play around with different number of outputs\n",
    "    # Function Definition from Above:\n",
    "    x = fully_conn(x, 4096)\n",
    "    x = tf.nn.dropout(x, keep_prob)\n",
    "    x = fully_conn(x, 256)\n",
    "    x = tf.nn.dropout(x, keep_prob)\n",
    "    \n",
    "    # TODO: Apply an Output Layer\n",
    "    # Set this to the number of classes\n",
    "    # Function Definition from Above:\n",
    "    x = output(x, 10)\n",
    "    \n",
    "    \n",
    "    # TODO: return output\n",
    "    return x\n",
    "\n",
    "\"\"\"\n",
    "DON'T MODIFY ANYTHING IN THIS CELL THAT IS BELOW THIS LINE\n",
    "\"\"\"\n",
    "\n",
    "##############################\n",
    "## Build the Neural Network ##\n",
    "##############################\n",
    "\n",
    "# Remove previous weights, bias, inputs, etc..\n",
    "tf.reset_default_graph()\n",
    "\n",
    "# Inputs\n",
    "x = neural_net_image_input((32, 32, 3))\n",
    "y = neural_net_label_input(10)\n",
    "keep_prob = neural_net_keep_prob_input()\n",
    "\n",
    "# Model\n",
    "logits = conv_net(x, keep_prob)\n",
    "\n",
    "# Name logits Tensor, so that is can be loaded from disk after training\n",
    "logits = tf.identity(logits, name='logits')\n",
    "\n",
    "# Loss and Optimizer\n",
    "cost = tf.reduce_mean(tf.nn.softmax_cross_entropy_with_logits(logits=logits, labels=y))\n",
    "optimizer = tf.train.AdamOptimizer().minimize(cost)\n",
    "\n",
    "# Accuracy\n",
    "correct_pred = tf.equal(tf.argmax(logits, 1), tf.argmax(y, 1))\n",
    "accuracy = tf.reduce_mean(tf.cast(correct_pred, tf.float32), name='accuracy')\n",
    "\n",
    "tests.test_conv_net(conv_net)"
   ]
  },
  {
   "cell_type": "markdown",
   "metadata": {},
   "source": [
    "## Train the Neural Network\n",
    "### Single Optimization\n",
    "Implement the function `train_neural_network` to do a single optimization.  The optimization should use `optimizer` to optimize in `session` with a `feed_dict` of the following:\n",
    "* `x` for image input\n",
    "* `y` for labels\n",
    "* `keep_prob` for keep probability for dropout\n",
    "\n",
    "This function will be called for each batch, so `tf.global_variables_initializer()` has already been called.\n",
    "\n",
    "Note: Nothing needs to be returned. This function is only optimizing the neural network."
   ]
  },
  {
   "cell_type": "code",
   "execution_count": 93,
   "metadata": {},
   "outputs": [
    {
     "name": "stdout",
     "output_type": "stream",
     "text": [
      "Tests Passed\n"
     ]
    }
   ],
   "source": [
    "def train_neural_network(session, optimizer, keep_probability, feature_batch, label_batch):\n",
    "    \"\"\"\n",
    "    Optimize the session on a batch of images and labels\n",
    "    : session: Current TensorFlow session\n",
    "    : optimizer: TensorFlow optimizer function\n",
    "    : keep_probability: keep probability\n",
    "    : feature_batch: Batch of Numpy image data\n",
    "    : label_batch: Batch of Numpy label data\n",
    "    \"\"\"\n",
    "    # TODO: Implement Function\n",
    "    session.run(optimizer, feed_dict={x: feature_batch, y: label_batch, keep_prob: keep_probability})\n",
    "\n",
    "    pass\n",
    "\n",
    "\"\"\"\n",
    "DON'T MODIFY ANYTHING IN THIS CELL THAT IS BELOW THIS LINE\n",
    "\"\"\"\n",
    "tests.test_train_nn(train_neural_network)"
   ]
  },
  {
   "cell_type": "markdown",
   "metadata": {},
   "source": [
    "### Show Stats\n",
    "Implement the function `print_stats` to print loss and validation accuracy.  Use the global variables `valid_features` and `valid_labels` to calculate validation accuracy.  Use a keep probability of `1.0` to calculate the loss and validation accuracy."
   ]
  },
  {
   "cell_type": "code",
   "execution_count": 94,
   "metadata": {
    "collapsed": true
   },
   "outputs": [],
   "source": [
    "def print_stats(session, feature_batch, label_batch, cost, accuracy):\n",
    "    \"\"\"\n",
    "    Print information about loss and validation accuracy\n",
    "    : session: Current TensorFlow session\n",
    "    : feature_batch: Batch of Numpy image data\n",
    "    : label_batch: Batch of Numpy label data\n",
    "    : cost: TensorFlow cost function\n",
    "    : accuracy: TensorFlow accuracy function\n",
    "    \"\"\"\n",
    "    # TODO: Implement Function\n",
    "    cost = session.run(cost, feed_dict={x: feature_batch, y: label_batch, keep_prob: 1.})\n",
    "    accuracy = session.run(accuracy, feed_dict={x: valid_features, y: valid_labels, keep_prob: 1.})\n",
    "\n",
    "    print('cost:{} accuracy: {}'.format(cost, accuracy))\n",
    "    pass"
   ]
  },
  {
   "cell_type": "markdown",
   "metadata": {},
   "source": [
    "### Hyperparameters\n",
    "Tune the following parameters:\n",
    "* Set `epochs` to the number of iterations until the network stops learning or start overfitting\n",
    "* Set `batch_size` to the highest number that your machine has memory for.  Most people set them to common sizes of memory:\n",
    " * 64\n",
    " * 128\n",
    " * 256\n",
    " * ...\n",
    "* Set `keep_probability` to the probability of keeping a node using dropout"
   ]
  },
  {
   "cell_type": "code",
   "execution_count": 95,
   "metadata": {
    "collapsed": true
   },
   "outputs": [],
   "source": [
    "# TODO: Tune Parameters\n",
    "epochs = 40\n",
    "batch_size = 256\n",
    "keep_probability = 0.5\n",
    "\n",
    "## [   conv1    pool1     conv2       pool2   neurons1  neurons2 epochs accuracy]\n",
    "## [ (64,5,1)   (2,2)   (128,3,1)     (2,2)     2048,     512,     40,        56]\n",
    "## [ (64,5,1)   (2,2)   (128,3,1)     (2,2)     4096,     512,     40,        56]\n",
    "## [ (64,7,1)   (2,2)   (128,3,1)     (2,2)     4096,     512,     40,        52]\n",
    "## [ (64,5,1)   (2,2)   (128,5,1)     (2,2)     4096,     512,     40,        57]\n",
    "## [ (64,5,1)   (3,1)   (128,5,1)     (2,2)     4096,     512,     40,        58] \n",
    "## [ (64,5,1)   (3,2)   (128,5,1)     (3,2)     4096,     512,     40,        60] \n",
    "## [ (64,5,1)   (5,2)   (128,5,1)     (5,2)     4096,     512,     40,        55]\n",
    "## [ (64,5,1)   (3,2)   (128,5,1)     (3,2)     4096,    1028,     40,        59] \n",
    "## [ (64,5,1)   (3,2)   (128,5,1)     (3,2)     4096,     256,     40,        59]\n",
    "## [ (32,5,1)   (3,2)   (128,5,1)     (3,2)     4096,     256,     40,        57]\n",
    "## [ (128,5,1)  (3,2)   (128,5,1)     (3,2)     4096,     256,     40,        still training]\n",
    "\n",
    "# ROUND 2 (after removing tf.layers)\n",
    "## [ (128,5,1)  (3,2)   (128,5,1)     (3,2)     4096,     256,     40,        32]\n",
    "## added dropout to conv_net after each fully_con layer\n",
    "## added relu to fully con layer\n",
    "## [ (128,5,1)  (3,2)   (128,5,1)     (3,2)     4096,     256,     40,        51"
   ]
  },
  {
   "cell_type": "markdown",
   "metadata": {},
   "source": [
    "### Train on a Single CIFAR-10 Batch\n",
    "Instead of training the neural network on all the CIFAR-10 batches of data, let's use a single batch. This should save time while you iterate on the model to get a better accuracy.  Once the final validation accuracy is 50% or greater, run the model on all the data in the next section."
   ]
  },
  {
   "cell_type": "code",
   "execution_count": 96,
   "metadata": {},
   "outputs": [
    {
     "name": "stdout",
     "output_type": "stream",
     "text": [
      "Checking the Training on a Single Batch...\n",
      "Epoch  1, CIFAR-10 Batch 1:  cost:2.2686476707458496 accuracy: 0.14059999585151672\n",
      "Epoch  2, CIFAR-10 Batch 1:  cost:2.080017328262329 accuracy: 0.2085999846458435\n",
      "Epoch  3, CIFAR-10 Batch 1:  cost:1.9111270904541016 accuracy: 0.28679999709129333\n",
      "Epoch  4, CIFAR-10 Batch 1:  cost:1.6793458461761475 accuracy: 0.33459997177124023\n",
      "Epoch  5, CIFAR-10 Batch 1:  cost:1.4034919738769531 accuracy: 0.36059996485710144\n",
      "Epoch  6, CIFAR-10 Batch 1:  cost:1.2637379169464111 accuracy: 0.38179999589920044\n",
      "Epoch  7, CIFAR-10 Batch 1:  cost:1.025108814239502 accuracy: 0.39739999175071716\n",
      "Epoch  8, CIFAR-10 Batch 1:  cost:0.9123188257217407 accuracy: 0.4081999659538269\n",
      "Epoch  9, CIFAR-10 Batch 1:  cost:0.7548268437385559 accuracy: 0.4217999279499054\n",
      "Epoch 10, CIFAR-10 Batch 1:  cost:0.7155100107192993 accuracy: 0.4193999767303467\n",
      "Epoch 11, CIFAR-10 Batch 1:  cost:0.5692814588546753 accuracy: 0.4609999656677246\n",
      "Epoch 12, CIFAR-10 Batch 1:  cost:0.4521111845970154 accuracy: 0.46059995889663696\n",
      "Epoch 13, CIFAR-10 Batch 1:  cost:0.41105371713638306 accuracy: 0.4731999635696411\n",
      "Epoch 14, CIFAR-10 Batch 1:  cost:0.3240847587585449 accuracy: 0.48739996552467346\n",
      "Epoch 15, CIFAR-10 Batch 1:  cost:0.3016028106212616 accuracy: 0.4691999852657318\n",
      "Epoch 16, CIFAR-10 Batch 1:  cost:0.37351080775260925 accuracy: 0.41919994354248047\n",
      "Epoch 17, CIFAR-10 Batch 1:  cost:0.25576162338256836 accuracy: 0.4845999479293823\n",
      "Epoch 18, CIFAR-10 Batch 1:  cost:0.16607381403446198 accuracy: 0.47919997572898865\n",
      "Epoch 19, CIFAR-10 Batch 1:  cost:0.15456785261631012 accuracy: 0.47919991612434387\n",
      "Epoch 20, CIFAR-10 Batch 1:  cost:0.14899379014968872 accuracy: 0.48879992961883545\n",
      "Epoch 21, CIFAR-10 Batch 1:  cost:0.11475951224565506 accuracy: 0.5005999803543091\n",
      "Epoch 22, CIFAR-10 Batch 1:  cost:0.09389155358076096 accuracy: 0.49619996547698975\n",
      "Epoch 23, CIFAR-10 Batch 1:  cost:0.06526880711317062 accuracy: 0.4859999120235443\n",
      "Epoch 24, CIFAR-10 Batch 1:  cost:0.05219026654958725 accuracy: 0.4731999635696411\n",
      "Epoch 25, CIFAR-10 Batch 1:  cost:0.046972934156656265 accuracy: 0.48379993438720703\n",
      "Epoch 26, CIFAR-10 Batch 1:  cost:0.05782376602292061 accuracy: 0.5021999478340149\n",
      "Epoch 27, CIFAR-10 Batch 1:  cost:0.04720335453748703 accuracy: 0.5069999694824219\n",
      "Epoch 28, CIFAR-10 Batch 1:  cost:0.03489626944065094 accuracy: 0.4999999403953552\n",
      "Epoch 29, CIFAR-10 Batch 1:  cost:0.04127001762390137 accuracy: 0.49279993772506714\n",
      "Epoch 30, CIFAR-10 Batch 1:  cost:0.04827781766653061 accuracy: 0.49279993772506714\n",
      "Epoch 31, CIFAR-10 Batch 1:  cost:0.04181656986474991 accuracy: 0.4827999472618103\n",
      "Epoch 32, CIFAR-10 Batch 1:  cost:0.02512068673968315 accuracy: 0.4925999343395233\n",
      "Epoch 33, CIFAR-10 Batch 1:  cost:0.018064554780721664 accuracy: 0.49779999256134033\n",
      "Epoch 34, CIFAR-10 Batch 1:  cost:0.014509819447994232 accuracy: 0.4925999641418457\n",
      "Epoch 35, CIFAR-10 Batch 1:  cost:0.0060369474813342094 accuracy: 0.49139997363090515\n",
      "Epoch 36, CIFAR-10 Batch 1:  cost:0.0061311256140470505 accuracy: 0.5003999471664429\n",
      "Epoch 37, CIFAR-10 Batch 1:  cost:0.00429850397631526 accuracy: 0.5073999166488647\n",
      "Epoch 38, CIFAR-10 Batch 1:  cost:0.01927192509174347 accuracy: 0.49759992957115173\n",
      "Epoch 39, CIFAR-10 Batch 1:  cost:0.004237514454871416 accuracy: 0.5089998841285706\n",
      "Epoch 40, CIFAR-10 Batch 1:  cost:0.005072704050689936 accuracy: 0.5117999315261841\n"
     ]
    }
   ],
   "source": [
    "\"\"\"\n",
    "DON'T MODIFY ANYTHING IN THIS CELL\n",
    "\"\"\"\n",
    "print('Checking the Training on a Single Batch...')\n",
    "with tf.Session() as sess:\n",
    "    # Initializing the variables\n",
    "    sess.run(tf.global_variables_initializer())\n",
    "    \n",
    "    # Training cycle\n",
    "    for epoch in range(epochs):\n",
    "        batch_i = 1\n",
    "        for batch_features, batch_labels in helper.load_preprocess_training_batch(batch_i, batch_size):\n",
    "            train_neural_network(sess, optimizer, keep_probability, batch_features, batch_labels)\n",
    "        print('Epoch {:>2}, CIFAR-10 Batch {}:  '.format(epoch + 1, batch_i), end='')\n",
    "        print_stats(sess, batch_features, batch_labels, cost, accuracy)"
   ]
  },
  {
   "cell_type": "markdown",
   "metadata": {},
   "source": [
    "### Fully Train the Model\n",
    "Now that you got a good accuracy with a single CIFAR-10 batch, try it with all five batches."
   ]
  },
  {
   "cell_type": "code",
   "execution_count": 97,
   "metadata": {},
   "outputs": [
    {
     "name": "stdout",
     "output_type": "stream",
     "text": [
      "Training...\n",
      "Epoch  1, CIFAR-10 Batch 1:  cost:2.222351312637329 accuracy: 0.1624000072479248\n",
      "Epoch  1, CIFAR-10 Batch 2:  cost:2.004246473312378 accuracy: 0.2953999936580658\n",
      "Epoch  1, CIFAR-10 Batch 3:  cost:1.7509713172912598 accuracy: 0.27079999446868896\n",
      "Epoch  1, CIFAR-10 Batch 4:  cost:1.6598610877990723 accuracy: 0.3537999987602234\n",
      "Epoch  1, CIFAR-10 Batch 5:  cost:1.7579669952392578 accuracy: 0.41179996728897095\n",
      "Epoch  2, CIFAR-10 Batch 1:  cost:1.702308177947998 accuracy: 0.39319995045661926\n",
      "Epoch  2, CIFAR-10 Batch 2:  cost:1.3938488960266113 accuracy: 0.42799997329711914\n",
      "Epoch  2, CIFAR-10 Batch 3:  cost:1.252694845199585 accuracy: 0.4359999895095825\n",
      "Epoch  2, CIFAR-10 Batch 4:  cost:1.3792831897735596 accuracy: 0.4545999765396118\n",
      "Epoch  2, CIFAR-10 Batch 5:  cost:1.4628517627716064 accuracy: 0.4533999562263489\n",
      "Epoch  3, CIFAR-10 Batch 1:  cost:1.272507667541504 accuracy: 0.48879995942115784\n",
      "Epoch  3, CIFAR-10 Batch 2:  cost:1.1786727905273438 accuracy: 0.49519994854927063\n",
      "Epoch  3, CIFAR-10 Batch 3:  cost:0.9971334338188171 accuracy: 0.4907999038696289\n",
      "Epoch  3, CIFAR-10 Batch 4:  cost:0.9851353764533997 accuracy: 0.5247999429702759\n",
      "Epoch  3, CIFAR-10 Batch 5:  cost:1.1015667915344238 accuracy: 0.5257999300956726\n",
      "Epoch  4, CIFAR-10 Batch 1:  cost:1.0187342166900635 accuracy: 0.517799973487854\n",
      "Epoch  4, CIFAR-10 Batch 2:  cost:0.975492000579834 accuracy: 0.49219992756843567\n",
      "Epoch  4, CIFAR-10 Batch 3:  cost:0.7951303124427795 accuracy: 0.4883999526500702\n",
      "Epoch  4, CIFAR-10 Batch 4:  cost:0.8517502546310425 accuracy: 0.5197999477386475\n",
      "Epoch  4, CIFAR-10 Batch 5:  cost:0.8577625751495361 accuracy: 0.5323998928070068\n",
      "Epoch  5, CIFAR-10 Batch 1:  cost:0.8014513850212097 accuracy: 0.5541999340057373\n",
      "Epoch  5, CIFAR-10 Batch 2:  cost:0.763691782951355 accuracy: 0.5463998913764954\n",
      "Epoch  5, CIFAR-10 Batch 3:  cost:0.6298084259033203 accuracy: 0.5527999401092529\n",
      "Epoch  5, CIFAR-10 Batch 4:  cost:0.6333863735198975 accuracy: 0.556999921798706\n",
      "Epoch  5, CIFAR-10 Batch 5:  cost:0.7065395712852478 accuracy: 0.5621999502182007\n",
      "Epoch  6, CIFAR-10 Batch 1:  cost:0.60740727186203 accuracy: 0.5837998986244202\n",
      "Epoch  6, CIFAR-10 Batch 2:  cost:0.6699926853179932 accuracy: 0.5865998864173889\n",
      "Epoch  6, CIFAR-10 Batch 3:  cost:0.5098598003387451 accuracy: 0.5165999531745911\n",
      "Epoch  6, CIFAR-10 Batch 4:  cost:0.5725882053375244 accuracy: 0.5889999270439148\n",
      "Epoch  6, CIFAR-10 Batch 5:  cost:0.5500210523605347 accuracy: 0.5717998743057251\n",
      "Epoch  7, CIFAR-10 Batch 1:  cost:0.5122743248939514 accuracy: 0.5847999453544617\n",
      "Epoch  7, CIFAR-10 Batch 2:  cost:0.6103723645210266 accuracy: 0.5537999868392944\n",
      "Epoch  7, CIFAR-10 Batch 3:  cost:0.34899434447288513 accuracy: 0.5943998694419861\n",
      "Epoch  7, CIFAR-10 Batch 4:  cost:0.43391087651252747 accuracy: 0.593799889087677\n",
      "Epoch  7, CIFAR-10 Batch 5:  cost:0.4621516466140747 accuracy: 0.5837999582290649\n",
      "Epoch  8, CIFAR-10 Batch 1:  cost:0.4349968731403351 accuracy: 0.5947998762130737\n",
      "Epoch  8, CIFAR-10 Batch 2:  cost:0.4400591552257538 accuracy: 0.5691999197006226\n",
      "Epoch  8, CIFAR-10 Batch 3:  cost:0.2807154059410095 accuracy: 0.5993999242782593\n",
      "Epoch  8, CIFAR-10 Batch 4:  cost:0.4206864833831787 accuracy: 0.5763999223709106\n",
      "Epoch  8, CIFAR-10 Batch 5:  cost:0.37088543176651 accuracy: 0.589199960231781\n",
      "Epoch  9, CIFAR-10 Batch 1:  cost:0.36190879344940186 accuracy: 0.6139999628067017\n",
      "Epoch  9, CIFAR-10 Batch 2:  cost:0.3295026123523712 accuracy: 0.591999888420105\n",
      "Epoch  9, CIFAR-10 Batch 3:  cost:0.20386405289173126 accuracy: 0.6071999669075012\n",
      "Epoch  9, CIFAR-10 Batch 4:  cost:0.309810072183609 accuracy: 0.5785999298095703\n",
      "Epoch  9, CIFAR-10 Batch 5:  cost:0.2510463297367096 accuracy: 0.6045998930931091\n",
      "Epoch 10, CIFAR-10 Batch 1:  cost:0.30840662121772766 accuracy: 0.6231998801231384\n",
      "Epoch 10, CIFAR-10 Batch 2:  cost:0.23685085773468018 accuracy: 0.6109999418258667\n",
      "Epoch 10, CIFAR-10 Batch 3:  cost:0.2090696394443512 accuracy: 0.6305999159812927\n",
      "Epoch 10, CIFAR-10 Batch 4:  cost:0.2730419337749481 accuracy: 0.6201999187469482\n",
      "Epoch 10, CIFAR-10 Batch 5:  cost:0.17828992009162903 accuracy: 0.6181999444961548\n",
      "Epoch 11, CIFAR-10 Batch 1:  cost:0.252127081155777 accuracy: 0.6141999363899231\n",
      "Epoch 11, CIFAR-10 Batch 2:  cost:0.21259364485740662 accuracy: 0.6175999045372009\n",
      "Epoch 11, CIFAR-10 Batch 3:  cost:0.16626635193824768 accuracy: 0.6297999024391174\n",
      "Epoch 11, CIFAR-10 Batch 4:  cost:0.21201808750629425 accuracy: 0.6223998665809631\n",
      "Epoch 11, CIFAR-10 Batch 5:  cost:0.1326800286769867 accuracy: 0.6227999329566956\n",
      "Epoch 12, CIFAR-10 Batch 1:  cost:0.24707812070846558 accuracy: 0.6219999194145203\n",
      "Epoch 12, CIFAR-10 Batch 2:  cost:0.25819510221481323 accuracy: 0.6175999045372009\n",
      "Epoch 12, CIFAR-10 Batch 3:  cost:0.1455954611301422 accuracy: 0.6309999227523804\n",
      "Epoch 12, CIFAR-10 Batch 4:  cost:0.14099301397800446 accuracy: 0.6221998929977417\n",
      "Epoch 12, CIFAR-10 Batch 5:  cost:0.12187889218330383 accuracy: 0.6337999105453491\n",
      "Epoch 13, CIFAR-10 Batch 1:  cost:0.17168451845645905 accuracy: 0.6281999349594116\n",
      "Epoch 13, CIFAR-10 Batch 2:  cost:0.15086160600185394 accuracy: 0.6075999736785889\n",
      "Epoch 13, CIFAR-10 Batch 3:  cost:0.08945078402757645 accuracy: 0.6067999005317688\n",
      "Epoch 13, CIFAR-10 Batch 4:  cost:0.14793923497200012 accuracy: 0.6177998781204224\n",
      "Epoch 13, CIFAR-10 Batch 5:  cost:0.12365907430648804 accuracy: 0.6267998814582825\n",
      "Epoch 14, CIFAR-10 Batch 1:  cost:0.12566311657428741 accuracy: 0.6325998902320862\n",
      "Epoch 14, CIFAR-10 Batch 2:  cost:0.13796360790729523 accuracy: 0.6347998976707458\n",
      "Epoch 14, CIFAR-10 Batch 3:  cost:0.05576809495687485 accuracy: 0.6117998957633972\n",
      "Epoch 14, CIFAR-10 Batch 4:  cost:0.10416572540998459 accuracy: 0.6299998760223389\n",
      "Epoch 14, CIFAR-10 Batch 5:  cost:0.07683910429477692 accuracy: 0.6349998712539673\n",
      "Epoch 15, CIFAR-10 Batch 1:  cost:0.09373949468135834 accuracy: 0.627799928188324\n",
      "Epoch 15, CIFAR-10 Batch 2:  cost:0.14311309158802032 accuracy: 0.6457998752593994\n",
      "Epoch 15, CIFAR-10 Batch 3:  cost:0.04346640408039093 accuracy: 0.6035999059677124\n",
      "Epoch 15, CIFAR-10 Batch 4:  cost:0.076301708817482 accuracy: 0.6383998394012451\n",
      "Epoch 15, CIFAR-10 Batch 5:  cost:0.08361825346946716 accuracy: 0.6327998638153076\n",
      "Epoch 16, CIFAR-10 Batch 1:  cost:0.09108324348926544 accuracy: 0.6455998420715332\n",
      "Epoch 16, CIFAR-10 Batch 2:  cost:0.07393551617860794 accuracy: 0.6329998970031738\n",
      "Epoch 16, CIFAR-10 Batch 3:  cost:0.051655225455760956 accuracy: 0.6177999377250671\n",
      "Epoch 16, CIFAR-10 Batch 4:  cost:0.05372349172830582 accuracy: 0.6339999437332153\n",
      "Epoch 16, CIFAR-10 Batch 5:  cost:0.0693424791097641 accuracy: 0.6169999241828918\n",
      "Epoch 17, CIFAR-10 Batch 1:  cost:0.06909893453121185 accuracy: 0.642599880695343\n",
      "Epoch 17, CIFAR-10 Batch 2:  cost:0.0760236606001854 accuracy: 0.6023999452590942\n",
      "Epoch 17, CIFAR-10 Batch 3:  cost:0.031806133687496185 accuracy: 0.613399863243103\n",
      "Epoch 17, CIFAR-10 Batch 4:  cost:0.05652210861444473 accuracy: 0.6253998875617981\n",
      "Epoch 17, CIFAR-10 Batch 5:  cost:0.0784459114074707 accuracy: 0.6139999032020569\n",
      "Epoch 18, CIFAR-10 Batch 1:  cost:0.05342915654182434 accuracy: 0.6535999178886414\n",
      "Epoch 18, CIFAR-10 Batch 2:  cost:0.06642544269561768 accuracy: 0.6307998895645142\n",
      "Epoch 18, CIFAR-10 Batch 3:  cost:0.016637133434414864 accuracy: 0.6255999207496643\n",
      "Epoch 18, CIFAR-10 Batch 4:  cost:0.050936009734869 accuracy: 0.6477999091148376\n",
      "Epoch 18, CIFAR-10 Batch 5:  cost:0.03487737849354744 accuracy: 0.6395999193191528\n",
      "Epoch 19, CIFAR-10 Batch 1:  cost:0.03705830127000809 accuracy: 0.6475998163223267\n",
      "Epoch 19, CIFAR-10 Batch 2:  cost:0.058492083102464676 accuracy: 0.6239999532699585\n",
      "Epoch 19, CIFAR-10 Batch 3:  cost:0.016843989491462708 accuracy: 0.6299998760223389\n",
      "Epoch 19, CIFAR-10 Batch 4:  cost:0.03765558451414108 accuracy: 0.6431999206542969\n",
      "Epoch 19, CIFAR-10 Batch 5:  cost:0.023616908118128777 accuracy: 0.6365998387336731\n",
      "Epoch 20, CIFAR-10 Batch 1:  cost:0.03429245203733444 accuracy: 0.6419999003410339\n",
      "Epoch 20, CIFAR-10 Batch 2:  cost:0.027303744107484818 accuracy: 0.6329998970031738\n",
      "Epoch 20, CIFAR-10 Batch 3:  cost:0.026043284684419632 accuracy: 0.635999858379364\n",
      "Epoch 20, CIFAR-10 Batch 4:  cost:0.0258578360080719 accuracy: 0.6395999193191528\n"
     ]
    },
    {
     "name": "stdout",
     "output_type": "stream",
     "text": [
      "Epoch 20, CIFAR-10 Batch 5:  cost:0.016092168167233467 accuracy: 0.6223998665809631\n",
      "Epoch 21, CIFAR-10 Batch 1:  cost:0.03148360177874565 accuracy: 0.6453998684883118\n",
      "Epoch 21, CIFAR-10 Batch 2:  cost:0.046612054109573364 accuracy: 0.6467998623847961\n",
      "Epoch 21, CIFAR-10 Batch 3:  cost:0.04184722900390625 accuracy: 0.6321999430656433\n",
      "Epoch 21, CIFAR-10 Batch 4:  cost:0.039092469960451126 accuracy: 0.6435999274253845\n",
      "Epoch 21, CIFAR-10 Batch 5:  cost:0.014517983421683311 accuracy: 0.6419999003410339\n",
      "Epoch 22, CIFAR-10 Batch 1:  cost:0.02779567986726761 accuracy: 0.6445998549461365\n",
      "Epoch 22, CIFAR-10 Batch 2:  cost:0.018359322100877762 accuracy: 0.6557998657226562\n",
      "Epoch 22, CIFAR-10 Batch 3:  cost:0.011510931886732578 accuracy: 0.6273999214172363\n",
      "Epoch 22, CIFAR-10 Batch 4:  cost:0.015602266415953636 accuracy: 0.6421999335289001\n",
      "Epoch 22, CIFAR-10 Batch 5:  cost:0.017071006819605827 accuracy: 0.6605998873710632\n",
      "Epoch 23, CIFAR-10 Batch 1:  cost:0.017491452395915985 accuracy: 0.6423999071121216\n",
      "Epoch 23, CIFAR-10 Batch 2:  cost:0.02601918950676918 accuracy: 0.631399929523468\n",
      "Epoch 23, CIFAR-10 Batch 3:  cost:0.005710636731237173 accuracy: 0.630599856376648\n",
      "Epoch 23, CIFAR-10 Batch 4:  cost:0.00705309584736824 accuracy: 0.6391999125480652\n",
      "Epoch 23, CIFAR-10 Batch 5:  cost:0.009691499173641205 accuracy: 0.6539998650550842\n",
      "Epoch 24, CIFAR-10 Batch 1:  cost:0.014605632051825523 accuracy: 0.6277998685836792\n",
      "Epoch 24, CIFAR-10 Batch 2:  cost:0.039250973612070084 accuracy: 0.6495999097824097\n",
      "Epoch 24, CIFAR-10 Batch 3:  cost:0.0017682218458503485 accuracy: 0.6483998894691467\n",
      "Epoch 24, CIFAR-10 Batch 4:  cost:0.002039500745013356 accuracy: 0.6573998332023621\n",
      "Epoch 24, CIFAR-10 Batch 5:  cost:0.010376660153269768 accuracy: 0.652199923992157\n",
      "Epoch 25, CIFAR-10 Batch 1:  cost:0.00851104874163866 accuracy: 0.6465999484062195\n",
      "Epoch 25, CIFAR-10 Batch 2:  cost:0.02148336172103882 accuracy: 0.6439999341964722\n",
      "Epoch 25, CIFAR-10 Batch 3:  cost:0.004137558396905661 accuracy: 0.6477998495101929\n",
      "Epoch 25, CIFAR-10 Batch 4:  cost:0.0061669847927987576 accuracy: 0.6445999145507812\n",
      "Epoch 25, CIFAR-10 Batch 5:  cost:0.012050552293658257 accuracy: 0.6375998854637146\n",
      "Epoch 26, CIFAR-10 Batch 1:  cost:0.008380783721804619 accuracy: 0.6613998413085938\n",
      "Epoch 26, CIFAR-10 Batch 2:  cost:0.009469006210565567 accuracy: 0.6495999097824097\n",
      "Epoch 26, CIFAR-10 Batch 3:  cost:0.0013201948022469878 accuracy: 0.6465999484062195\n",
      "Epoch 26, CIFAR-10 Batch 4:  cost:0.018599405884742737 accuracy: 0.6571998596191406\n",
      "Epoch 26, CIFAR-10 Batch 5:  cost:0.004126530606299639 accuracy: 0.6565999388694763\n",
      "Epoch 27, CIFAR-10 Batch 1:  cost:0.007676673587411642 accuracy: 0.6683999300003052\n",
      "Epoch 27, CIFAR-10 Batch 2:  cost:0.021554475650191307 accuracy: 0.6601998805999756\n",
      "Epoch 27, CIFAR-10 Batch 3:  cost:0.0006236673798412085 accuracy: 0.6607998609542847\n",
      "Epoch 27, CIFAR-10 Batch 4:  cost:0.004355502314865589 accuracy: 0.6523998379707336\n",
      "Epoch 27, CIFAR-10 Batch 5:  cost:0.002856577280908823 accuracy: 0.6621999144554138\n",
      "Epoch 28, CIFAR-10 Batch 1:  cost:0.00983777642250061 accuracy: 0.6585999131202698\n",
      "Epoch 28, CIFAR-10 Batch 2:  cost:0.005150346085429192 accuracy: 0.6485998630523682\n",
      "Epoch 28, CIFAR-10 Batch 3:  cost:0.005522183608263731 accuracy: 0.653999924659729\n",
      "Epoch 28, CIFAR-10 Batch 4:  cost:0.0022510045673698187 accuracy: 0.665199875831604\n",
      "Epoch 28, CIFAR-10 Batch 5:  cost:0.013938261196017265 accuracy: 0.6497998833656311\n",
      "Epoch 29, CIFAR-10 Batch 1:  cost:0.0037765956949442625 accuracy: 0.6653999090194702\n",
      "Epoch 29, CIFAR-10 Batch 2:  cost:0.00902650784701109 accuracy: 0.6671998500823975\n",
      "Epoch 29, CIFAR-10 Batch 3:  cost:0.0004052591393701732 accuracy: 0.6621999144554138\n",
      "Epoch 29, CIFAR-10 Batch 4:  cost:0.008644863963127136 accuracy: 0.6641998887062073\n",
      "Epoch 29, CIFAR-10 Batch 5:  cost:0.007550160400569439 accuracy: 0.6763999462127686\n",
      "Epoch 30, CIFAR-10 Batch 1:  cost:0.002507011406123638 accuracy: 0.6573998928070068\n",
      "Epoch 30, CIFAR-10 Batch 2:  cost:0.003108721226453781 accuracy: 0.6565998792648315\n",
      "Epoch 30, CIFAR-10 Batch 3:  cost:0.0012220056960359216 accuracy: 0.6605998873710632\n",
      "Epoch 30, CIFAR-10 Batch 4:  cost:0.005166295915842056 accuracy: 0.6611998677253723\n",
      "Epoch 30, CIFAR-10 Batch 5:  cost:0.0031314014922827482 accuracy: 0.6499998569488525\n",
      "Epoch 31, CIFAR-10 Batch 1:  cost:0.005502392537891865 accuracy: 0.6685998439788818\n",
      "Epoch 31, CIFAR-10 Batch 2:  cost:0.0017554631922394037 accuracy: 0.6525998711585999\n",
      "Epoch 31, CIFAR-10 Batch 3:  cost:0.0002704105863813311 accuracy: 0.6603999137878418\n",
      "Epoch 31, CIFAR-10 Batch 4:  cost:0.000801398535259068 accuracy: 0.663399875164032\n",
      "Epoch 31, CIFAR-10 Batch 5:  cost:0.002715149661526084 accuracy: 0.6471998691558838\n",
      "Epoch 32, CIFAR-10 Batch 1:  cost:0.003236672142520547 accuracy: 0.6623998880386353\n",
      "Epoch 32, CIFAR-10 Batch 2:  cost:0.0019496355671435595 accuracy: 0.6667998433113098\n",
      "Epoch 32, CIFAR-10 Batch 3:  cost:0.0007652990752831101 accuracy: 0.6715998649597168\n",
      "Epoch 32, CIFAR-10 Batch 4:  cost:0.0032725613564252853 accuracy: 0.6761999130249023\n",
      "Epoch 32, CIFAR-10 Batch 5:  cost:0.002052906434983015 accuracy: 0.6535999178886414\n",
      "Epoch 33, CIFAR-10 Batch 1:  cost:0.007564124185591936 accuracy: 0.6703999042510986\n",
      "Epoch 33, CIFAR-10 Batch 2:  cost:0.0017757343593984842 accuracy: 0.6513999700546265\n",
      "Epoch 33, CIFAR-10 Batch 3:  cost:0.0006046274211257696 accuracy: 0.6671999096870422\n",
      "Epoch 33, CIFAR-10 Batch 4:  cost:0.0024038353003561497 accuracy: 0.6657998561859131\n",
      "Epoch 33, CIFAR-10 Batch 5:  cost:0.004231057595461607 accuracy: 0.6629999279975891\n",
      "Epoch 34, CIFAR-10 Batch 1:  cost:0.011374454945325851 accuracy: 0.6631999015808105\n",
      "Epoch 34, CIFAR-10 Batch 2:  cost:0.0019582766108214855 accuracy: 0.6661998629570007\n",
      "Epoch 34, CIFAR-10 Batch 3:  cost:0.0001754499680828303 accuracy: 0.6695998907089233\n",
      "Epoch 34, CIFAR-10 Batch 4:  cost:0.004911001771688461 accuracy: 0.6619999408721924\n",
      "Epoch 34, CIFAR-10 Batch 5:  cost:0.004007493611425161 accuracy: 0.6635998487472534\n",
      "Epoch 35, CIFAR-10 Batch 1:  cost:0.0037739998660981655 accuracy: 0.6673998832702637\n",
      "Epoch 35, CIFAR-10 Batch 2:  cost:0.00036431505577638745 accuracy: 0.6573998928070068\n",
      "Epoch 35, CIFAR-10 Batch 3:  cost:0.000967164000030607 accuracy: 0.6619999408721924\n",
      "Epoch 35, CIFAR-10 Batch 4:  cost:0.0031545120291411877 accuracy: 0.6669998168945312\n",
      "Epoch 35, CIFAR-10 Batch 5:  cost:0.002329672919586301 accuracy: 0.6607998609542847\n",
      "Epoch 36, CIFAR-10 Batch 1:  cost:0.001581202493980527 accuracy: 0.6661999225616455\n",
      "Epoch 36, CIFAR-10 Batch 2:  cost:0.0008843382820487022 accuracy: 0.6681998372077942\n",
      "Epoch 36, CIFAR-10 Batch 3:  cost:0.0019824907649308443 accuracy: 0.6571998596191406\n",
      "Epoch 36, CIFAR-10 Batch 4:  cost:0.0048761917278170586 accuracy: 0.663399875164032\n",
      "Epoch 36, CIFAR-10 Batch 5:  cost:0.0015104120830073953 accuracy: 0.6585999131202698\n",
      "Epoch 37, CIFAR-10 Batch 1:  cost:0.00039792415918782353 accuracy: 0.674799919128418\n",
      "Epoch 37, CIFAR-10 Batch 2:  cost:0.0005033651832491159 accuracy: 0.6671998500823975\n",
      "Epoch 37, CIFAR-10 Batch 3:  cost:0.0008148742490448058 accuracy: 0.6689998507499695\n",
      "Epoch 37, CIFAR-10 Batch 4:  cost:0.0012599513866007328 accuracy: 0.6561998724937439\n",
      "Epoch 37, CIFAR-10 Batch 5:  cost:0.0022960989736020565 accuracy: 0.6561998724937439\n",
      "Epoch 38, CIFAR-10 Batch 1:  cost:0.0020038941875100136 accuracy: 0.6505998373031616\n",
      "Epoch 38, CIFAR-10 Batch 2:  cost:0.0010410933755338192 accuracy: 0.66159987449646\n",
      "Epoch 38, CIFAR-10 Batch 3:  cost:8.037166844587773e-05 accuracy: 0.6711999177932739\n",
      "Epoch 38, CIFAR-10 Batch 4:  cost:0.0009532420081086457 accuracy: 0.6709998846054077\n",
      "Epoch 38, CIFAR-10 Batch 5:  cost:0.0020162509754300117 accuracy: 0.6593998670578003\n",
      "Epoch 39, CIFAR-10 Batch 1:  cost:0.00038509530713781714 accuracy: 0.6749998927116394\n",
      "Epoch 39, CIFAR-10 Batch 2:  cost:0.0010482341749593616 accuracy: 0.6627998352050781\n",
      "Epoch 39, CIFAR-10 Batch 3:  cost:7.8331031545531e-05 accuracy: 0.6787998676300049\n",
      "Epoch 39, CIFAR-10 Batch 4:  cost:0.0007072048611007631 accuracy: 0.6759998798370361\n",
      "Epoch 39, CIFAR-10 Batch 5:  cost:0.0011738603934645653 accuracy: 0.6629998683929443\n",
      "Epoch 40, CIFAR-10 Batch 1:  cost:0.00387434009462595 accuracy: 0.6595999002456665\n"
     ]
    },
    {
     "name": "stdout",
     "output_type": "stream",
     "text": [
      "Epoch 40, CIFAR-10 Batch 2:  cost:0.00020950418547727168 accuracy: 0.6719999313354492\n",
      "Epoch 40, CIFAR-10 Batch 3:  cost:6.972754636080936e-05 accuracy: 0.6693998575210571\n",
      "Epoch 40, CIFAR-10 Batch 4:  cost:0.0023815270978957415 accuracy: 0.6737998127937317\n",
      "Epoch 40, CIFAR-10 Batch 5:  cost:0.0003068743972107768 accuracy: 0.6769999265670776\n"
     ]
    }
   ],
   "source": [
    "\"\"\"\n",
    "DON'T MODIFY ANYTHING IN THIS CELL\n",
    "\"\"\"\n",
    "save_model_path = './image_classification'\n",
    "\n",
    "print('Training...')\n",
    "with tf.Session() as sess:\n",
    "    # Initializing the variables\n",
    "    sess.run(tf.global_variables_initializer())\n",
    "    \n",
    "    # Training cycle\n",
    "    for epoch in range(epochs):\n",
    "        # Loop over all batches\n",
    "        n_batches = 5\n",
    "        for batch_i in range(1, n_batches + 1):\n",
    "            for batch_features, batch_labels in helper.load_preprocess_training_batch(batch_i, batch_size):\n",
    "                train_neural_network(sess, optimizer, keep_probability, batch_features, batch_labels)\n",
    "            print('Epoch {:>2}, CIFAR-10 Batch {}:  '.format(epoch + 1, batch_i), end='')\n",
    "            print_stats(sess, batch_features, batch_labels, cost, accuracy)\n",
    "            \n",
    "    # Save Model\n",
    "    saver = tf.train.Saver()\n",
    "    save_path = saver.save(sess, save_model_path)"
   ]
  },
  {
   "cell_type": "markdown",
   "metadata": {},
   "source": [
    "# Checkpoint\n",
    "The model has been saved to disk.\n",
    "## Test Model\n",
    "Test your model against the test dataset.  This will be your final accuracy. You should have an accuracy greater than 50%. If you don't, keep tweaking the model architecture and parameters."
   ]
  },
  {
   "cell_type": "code",
   "execution_count": 98,
   "metadata": {},
   "outputs": [
    {
     "name": "stdout",
     "output_type": "stream",
     "text": [
      "INFO:tensorflow:Restoring parameters from ./image_classification\n",
      "Testing Accuracy: 0.67490234375\n",
      "\n"
     ]
    },
    {
     "data": {
      "image/png": "[encoded data removed]",
      "text/plain": [
       "<matplotlib.figure.Figure at 0x7fdef5ef8048>"
      ]
     },
     "metadata": {
      "image/png": {
       "height": 319,
       "width": 355
      }
     },
     "output_type": "display_data"
    }
   ],
   "source": [
    "\"\"\"\n",
    "DON'T MODIFY ANYTHING IN THIS CELL\n",
    "\"\"\"\n",
    "%matplotlib inline\n",
    "%config InlineBackend.figure_format = 'retina'\n",
    "\n",
    "import tensorflow as tf\n",
    "import pickle\n",
    "import helper\n",
    "import random\n",
    "\n",
    "# Set batch size if not already set\n",
    "try:\n",
    "    if batch_size:\n",
    "        pass\n",
    "except NameError:\n",
    "    batch_size = 64\n",
    "\n",
    "save_model_path = './image_classification'\n",
    "n_samples = 4\n",
    "top_n_predictions = 3\n",
    "\n",
    "def test_model():\n",
    "    \"\"\"\n",
    "    Test the saved model against the test dataset\n",
    "    \"\"\"\n",
    "\n",
    "    test_features, test_labels = pickle.load(open('preprocess_test.p', mode='rb'))\n",
    "    loaded_graph = tf.Graph()\n",
    "\n",
    "    with tf.Session(graph=loaded_graph) as sess:\n",
    "        # Load model\n",
    "        loader = tf.train.import_meta_graph(save_model_path + '.meta')\n",
    "        loader.restore(sess, save_model_path)\n",
    "\n",
    "        # Get Tensors from loaded model\n",
    "        loaded_x = loaded_graph.get_tensor_by_name('x:0')\n",
    "        loaded_y = loaded_graph.get_tensor_by_name('y:0')\n",
    "        loaded_keep_prob = loaded_graph.get_tensor_by_name('keep_prob:0')\n",
    "        loaded_logits = loaded_graph.get_tensor_by_name('logits:0')\n",
    "        loaded_acc = loaded_graph.get_tensor_by_name('accuracy:0')\n",
    "        \n",
    "        # Get accuracy in batches for memory limitations\n",
    "        test_batch_acc_total = 0\n",
    "        test_batch_count = 0\n",
    "        \n",
    "        for test_feature_batch, test_label_batch in helper.batch_features_labels(test_features, test_labels, batch_size):\n",
    "            test_batch_acc_total += sess.run(\n",
    "                loaded_acc,\n",
    "                feed_dict={loaded_x: test_feature_batch, loaded_y: test_label_batch, loaded_keep_prob: 1.0})\n",
    "            test_batch_count += 1\n",
    "\n",
    "        print('Testing Accuracy: {}\\n'.format(test_batch_acc_total/test_batch_count))\n",
    "\n",
    "        # Print Random Samples\n",
    "        random_test_features, random_test_labels = tuple(zip(*random.sample(list(zip(test_features, test_labels)), n_samples)))\n",
    "        random_test_predictions = sess.run(\n",
    "            tf.nn.top_k(tf.nn.softmax(loaded_logits), top_n_predictions),\n",
    "            feed_dict={loaded_x: random_test_features, loaded_y: random_test_labels, loaded_keep_prob: 1.0})\n",
    "        helper.display_image_predictions(random_test_features, random_test_labels, random_test_predictions)\n",
    "\n",
    "\n",
    "test_model()"
   ]
  },
  {
   "cell_type": "markdown",
   "metadata": {},
   "source": [
    "## Why 50-80% Accuracy?\n",
    "You might be wondering why you can't get an accuracy any higher. First things first, 50% isn't bad for a simple CNN.  Pure guessing would get you 10% accuracy. However, you might notice people are getting scores [well above 80%](http://rodrigob.github.io/are_we_there_yet/build/classification_datasets_results.html#43494641522d3130).  That's because we haven't taught you all there is to know about neural networks. We still need to cover a few more techniques.\n",
    "## Submitting This Project\n",
    "When submitting this project, make sure to run all the cells before saving the notebook.  Save the notebook file as \"dlnd_image_classification.ipynb\" and save it as a HTML file under \"File\" -> \"Download as\".  Include the \"helper.py\" and \"problem_unittests.py\" files in your submission."
   ]
  }
 ],
 "metadata": {
  "kernelspec": {
   "display_name": "Python 3",
   "language": "python",
   "name": "python3"
  },
  "language_info": {
   "codemirror_mode": {
    "name": "ipython",
    "version": 3
   },
   "file_extension": ".py",
   "mimetype": "text/x-python",
   "name": "python",
   "nbconvert_exporter": "python",
   "pygments_lexer": "ipython3",
   "version": "3.5.3"
  }
 },
 "nbformat": 4,
 "nbformat_minor": 1
}
